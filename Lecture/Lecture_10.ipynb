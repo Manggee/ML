{
 "cells": [
  {
   "cell_type": "markdown",
   "id": "5b60c7b3-3ac1-4615-96d0-195543682d66",
   "metadata": {},
   "source": [
    "### **Chapter 02. SGDClassifier**"
   ]
  },
  {
   "cell_type": "code",
   "id": "07e834d4-d552-4e52-a538-590a73a9f17b",
   "metadata": {
    "ExecuteTime": {
     "end_time": "2025-04-23T19:32:01.345642Z",
     "start_time": "2025-04-23T19:32:01.188580Z"
    }
   },
   "source": [
    "import pandas as pd\n",
    "\n",
    "fish = pd.read_csv(\"Fish.csv\")\n",
    "fish"
   ],
   "outputs": [
    {
     "data": {
      "text/plain": [
       "    Species  Weight  Length1  Length2  Length3   Height   Width\n",
       "0     Bream   242.0     23.2     25.4     30.0  11.5200  4.0200\n",
       "1     Bream   290.0     24.0     26.3     31.2  12.4800  4.3056\n",
       "2     Bream   340.0     23.9     26.5     31.1  12.3778  4.6961\n",
       "3     Bream   363.0     26.3     29.0     33.5  12.7300  4.4555\n",
       "4     Bream   430.0     26.5     29.0     34.0  12.4440  5.1340\n",
       "..      ...     ...      ...      ...      ...      ...     ...\n",
       "154   Smelt    12.2     11.5     12.2     13.4   2.0904  1.3936\n",
       "155   Smelt    13.4     11.7     12.4     13.5   2.4300  1.2690\n",
       "156   Smelt    12.2     12.1     13.0     13.8   2.2770  1.2558\n",
       "157   Smelt    19.7     13.2     14.3     15.2   2.8728  2.0672\n",
       "158   Smelt    19.9     13.8     15.0     16.2   2.9322  1.8792\n",
       "\n",
       "[159 rows x 7 columns]"
      ],
      "text/html": [
       "<div>\n",
       "<style scoped>\n",
       "    .dataframe tbody tr th:only-of-type {\n",
       "        vertical-align: middle;\n",
       "    }\n",
       "\n",
       "    .dataframe tbody tr th {\n",
       "        vertical-align: top;\n",
       "    }\n",
       "\n",
       "    .dataframe thead th {\n",
       "        text-align: right;\n",
       "    }\n",
       "</style>\n",
       "<table border=\"1\" class=\"dataframe\">\n",
       "  <thead>\n",
       "    <tr style=\"text-align: right;\">\n",
       "      <th></th>\n",
       "      <th>Species</th>\n",
       "      <th>Weight</th>\n",
       "      <th>Length1</th>\n",
       "      <th>Length2</th>\n",
       "      <th>Length3</th>\n",
       "      <th>Height</th>\n",
       "      <th>Width</th>\n",
       "    </tr>\n",
       "  </thead>\n",
       "  <tbody>\n",
       "    <tr>\n",
       "      <th>0</th>\n",
       "      <td>Bream</td>\n",
       "      <td>242.0</td>\n",
       "      <td>23.2</td>\n",
       "      <td>25.4</td>\n",
       "      <td>30.0</td>\n",
       "      <td>11.5200</td>\n",
       "      <td>4.0200</td>\n",
       "    </tr>\n",
       "    <tr>\n",
       "      <th>1</th>\n",
       "      <td>Bream</td>\n",
       "      <td>290.0</td>\n",
       "      <td>24.0</td>\n",
       "      <td>26.3</td>\n",
       "      <td>31.2</td>\n",
       "      <td>12.4800</td>\n",
       "      <td>4.3056</td>\n",
       "    </tr>\n",
       "    <tr>\n",
       "      <th>2</th>\n",
       "      <td>Bream</td>\n",
       "      <td>340.0</td>\n",
       "      <td>23.9</td>\n",
       "      <td>26.5</td>\n",
       "      <td>31.1</td>\n",
       "      <td>12.3778</td>\n",
       "      <td>4.6961</td>\n",
       "    </tr>\n",
       "    <tr>\n",
       "      <th>3</th>\n",
       "      <td>Bream</td>\n",
       "      <td>363.0</td>\n",
       "      <td>26.3</td>\n",
       "      <td>29.0</td>\n",
       "      <td>33.5</td>\n",
       "      <td>12.7300</td>\n",
       "      <td>4.4555</td>\n",
       "    </tr>\n",
       "    <tr>\n",
       "      <th>4</th>\n",
       "      <td>Bream</td>\n",
       "      <td>430.0</td>\n",
       "      <td>26.5</td>\n",
       "      <td>29.0</td>\n",
       "      <td>34.0</td>\n",
       "      <td>12.4440</td>\n",
       "      <td>5.1340</td>\n",
       "    </tr>\n",
       "    <tr>\n",
       "      <th>...</th>\n",
       "      <td>...</td>\n",
       "      <td>...</td>\n",
       "      <td>...</td>\n",
       "      <td>...</td>\n",
       "      <td>...</td>\n",
       "      <td>...</td>\n",
       "      <td>...</td>\n",
       "    </tr>\n",
       "    <tr>\n",
       "      <th>154</th>\n",
       "      <td>Smelt</td>\n",
       "      <td>12.2</td>\n",
       "      <td>11.5</td>\n",
       "      <td>12.2</td>\n",
       "      <td>13.4</td>\n",
       "      <td>2.0904</td>\n",
       "      <td>1.3936</td>\n",
       "    </tr>\n",
       "    <tr>\n",
       "      <th>155</th>\n",
       "      <td>Smelt</td>\n",
       "      <td>13.4</td>\n",
       "      <td>11.7</td>\n",
       "      <td>12.4</td>\n",
       "      <td>13.5</td>\n",
       "      <td>2.4300</td>\n",
       "      <td>1.2690</td>\n",
       "    </tr>\n",
       "    <tr>\n",
       "      <th>156</th>\n",
       "      <td>Smelt</td>\n",
       "      <td>12.2</td>\n",
       "      <td>12.1</td>\n",
       "      <td>13.0</td>\n",
       "      <td>13.8</td>\n",
       "      <td>2.2770</td>\n",
       "      <td>1.2558</td>\n",
       "    </tr>\n",
       "    <tr>\n",
       "      <th>157</th>\n",
       "      <td>Smelt</td>\n",
       "      <td>19.7</td>\n",
       "      <td>13.2</td>\n",
       "      <td>14.3</td>\n",
       "      <td>15.2</td>\n",
       "      <td>2.8728</td>\n",
       "      <td>2.0672</td>\n",
       "    </tr>\n",
       "    <tr>\n",
       "      <th>158</th>\n",
       "      <td>Smelt</td>\n",
       "      <td>19.9</td>\n",
       "      <td>13.8</td>\n",
       "      <td>15.0</td>\n",
       "      <td>16.2</td>\n",
       "      <td>2.9322</td>\n",
       "      <td>1.8792</td>\n",
       "    </tr>\n",
       "  </tbody>\n",
       "</table>\n",
       "<p>159 rows × 7 columns</p>\n",
       "</div>"
      ]
     },
     "execution_count": 1,
     "metadata": {},
     "output_type": "execute_result"
    }
   ],
   "execution_count": 1
  },
  {
   "cell_type": "code",
   "id": "ec0e36cd-8a50-4836-88b2-a05373a74879",
   "metadata": {
    "ExecuteTime": {
     "end_time": "2025-04-23T19:32:01.363303Z",
     "start_time": "2025-04-23T19:32:01.361535Z"
    }
   },
   "source": [
    "print(fish.columns)"
   ],
   "outputs": [
    {
     "name": "stdout",
     "output_type": "stream",
     "text": [
      "Index(['Species', 'Weight', 'Length1', 'Length2', 'Length3', 'Height',\n",
      "       'Width'],\n",
      "      dtype='object')\n"
     ]
    }
   ],
   "execution_count": 2
  },
  {
   "cell_type": "code",
   "id": "697e4ef1-a3b3-4ace-a1eb-61672ea42e41",
   "metadata": {
    "ExecuteTime": {
     "end_time": "2025-04-23T19:32:01.427970Z",
     "start_time": "2025-04-23T19:32:01.426046Z"
    }
   },
   "source": [
    "x = fish[['Weight', 'Length2', 'Length3', 'Height', 'Width']].to_numpy()\n",
    "print(type(x))"
   ],
   "outputs": [
    {
     "name": "stdout",
     "output_type": "stream",
     "text": [
      "<class 'numpy.ndarray'>\n"
     ]
    }
   ],
   "execution_count": 3
  },
  {
   "cell_type": "code",
   "id": "7496d157-b89e-40be-aec1-b9a24028c81c",
   "metadata": {
    "ExecuteTime": {
     "end_time": "2025-04-23T19:32:01.528159Z",
     "start_time": "2025-04-23T19:32:01.526103Z"
    }
   },
   "source": [
    "y = fish['Species'].to_numpy()\n",
    "print(type(y))"
   ],
   "outputs": [
    {
     "name": "stdout",
     "output_type": "stream",
     "text": [
      "<class 'numpy.ndarray'>\n"
     ]
    }
   ],
   "execution_count": 4
  },
  {
   "cell_type": "code",
   "id": "7ebefe5b-44b6-4af9-97b0-c29657983b99",
   "metadata": {
    "ExecuteTime": {
     "end_time": "2025-04-23T19:32:01.963072Z",
     "start_time": "2025-04-23T19:32:01.602678Z"
    }
   },
   "source": [
    "from sklearn.model_selection import train_test_split\n",
    "\n",
    "x_train, x_test, y_train, y_test = train_test_split(x, y, random_state=42)\n",
    "\n",
    "print(x_train.shape, y_train.shape)   # 75%\n",
    "print(x_test.shape, y_test.shape)     # 25%"
   ],
   "outputs": [
    {
     "name": "stdout",
     "output_type": "stream",
     "text": [
      "(119, 5) (119,)\n",
      "(40, 5) (40,)\n"
     ]
    }
   ],
   "execution_count": 5
  },
  {
   "cell_type": "code",
   "id": "1a14f849-b8a6-43db-a872-37a8ffca6f5e",
   "metadata": {
    "ExecuteTime": {
     "end_time": "2025-04-23T19:32:01.984294Z",
     "start_time": "2025-04-23T19:32:01.982202Z"
    }
   },
   "source": [
    "# 전처리 -> Feature Scaling -> 표준화, 정규화\n",
    "from sklearn.preprocessing import StandardScaler, MinMaxScaler\n",
    "\n",
    "ss = StandardScaler()\n",
    "\n",
    "ss.fit(x_train)   # ---> 평균, 표준편차를 계산함!\n",
    "\n",
    "x_train_scaled = ss.transform(x_train)\n",
    "x_test_scaled = ss.transform(x_test)"
   ],
   "outputs": [],
   "execution_count": 6
  },
  {
   "cell_type": "code",
   "id": "71551dd1-cd44-48fe-9a62-f4a6ab274d4f",
   "metadata": {
    "ExecuteTime": {
     "end_time": "2025-04-23T19:32:02.019333Z",
     "start_time": "2025-04-23T19:32:01.993277Z"
    }
   },
   "source": [
    "from sklearn.linear_model import SGDClassifier\n",
    "\n",
    "sc = SGDClassifier(loss=\"log_loss\", max_iter=10, random_state=42)\n",
    "\n",
    "sc.fit(x_train_scaled, y_train)\n",
    "\n",
    "print(\"학습용:\", sc.score(x_train_scaled, y_train))\n",
    "print(\"시험용:\", sc.score(x_test_scaled, y_test))"
   ],
   "outputs": [
    {
     "name": "stdout",
     "output_type": "stream",
     "text": [
      "학습용: 0.7899159663865546\n",
      "시험용: 0.775\n"
     ]
    },
    {
     "name": "stderr",
     "output_type": "stream",
     "text": [
      "/Users/manggee/Code/dongduk/lib/python3.13/site-packages/sklearn/linear_model/_stochastic_gradient.py:738: ConvergenceWarning: Maximum number of iteration reached before convergence. Consider increasing max_iter to improve the fit.\n",
      "  warnings.warn(\n"
     ]
    }
   ],
   "execution_count": 7
  },
  {
   "cell_type": "code",
   "id": "6b549f93-778a-4829-b644-4e13395ccd87",
   "metadata": {
    "ExecuteTime": {
     "end_time": "2025-04-23T19:32:02.031820Z",
     "start_time": "2025-04-23T19:32:02.027913Z"
    }
   },
   "source": [
    "# 11번째 에포크\n",
    "\n",
    "sc.partial_fit(x_train_scaled, y_train)   # 1 epoch만큼 학습시켜줌!\n",
    "\n",
    "print(\"학습용:\", sc.score(x_train_scaled, y_train))\n",
    "print(\"시험용:\", sc.score(x_test_scaled, y_test))"
   ],
   "outputs": [
    {
     "name": "stdout",
     "output_type": "stream",
     "text": [
      "학습용: 0.8067226890756303\n",
      "시험용: 0.8\n"
     ]
    }
   ],
   "execution_count": 8
  },
  {
   "cell_type": "code",
   "id": "b65d99b1-62c3-4fb3-a9aa-3d794a4674f6",
   "metadata": {
    "ExecuteTime": {
     "end_time": "2025-04-23T19:32:02.044553Z",
     "start_time": "2025-04-23T19:32:02.040715Z"
    }
   },
   "source": [
    "# 12번째 에포크\n",
    "\n",
    "sc.partial_fit(x_train_scaled, y_train)   # 1 epoch만큼 학습시켜줌!\n",
    "\n",
    "print(\"학습용:\", sc.score(x_train_scaled, y_train))\n",
    "print(\"시험용:\", sc.score(x_test_scaled, y_test))"
   ],
   "outputs": [
    {
     "name": "stdout",
     "output_type": "stream",
     "text": [
      "학습용: 0.8235294117647058\n",
      "시험용: 0.9\n"
     ]
    }
   ],
   "execution_count": 9
  },
  {
   "cell_type": "code",
   "id": "4c496b70-1cf4-4c4d-adab-4709744276cc",
   "metadata": {
    "ExecuteTime": {
     "end_time": "2025-04-23T19:32:02.059189Z",
     "start_time": "2025-04-23T19:32:02.055345Z"
    }
   },
   "source": [
    "# 13번째 에포크\n",
    "\n",
    "sc.partial_fit(x_train_scaled, y_train)   # 1 epoch만큼 학습시켜줌!\n",
    "\n",
    "print(\"학습용:\", sc.score(x_train_scaled, y_train))\n",
    "print(\"시험용:\", sc.score(x_test_scaled, y_test))"
   ],
   "outputs": [
    {
     "name": "stdout",
     "output_type": "stream",
     "text": [
      "학습용: 0.8739495798319328\n",
      "시험용: 0.875\n"
     ]
    }
   ],
   "execution_count": 10
  },
  {
   "cell_type": "code",
   "id": "4920783f-42a7-4681-8bc7-d5dd3ab0223b",
   "metadata": {
    "ExecuteTime": {
     "end_time": "2025-04-23T19:32:02.075385Z",
     "start_time": "2025-04-23T19:32:02.073806Z"
    }
   },
   "source": [
    "import numpy as np\n",
    "\n",
    "print(np.unique(y_train))"
   ],
   "outputs": [
    {
     "name": "stdout",
     "output_type": "stream",
     "text": [
      "['Bream' 'Parkki' 'Perch' 'Pike' 'Roach' 'Smelt' 'Whitefish']\n"
     ]
    }
   ],
   "execution_count": 11
  },
  {
   "cell_type": "code",
   "id": "000e88e4-f57b-4955-b1ce-f690b2ab9029",
   "metadata": {
    "ExecuteTime": {
     "end_time": "2025-04-23T19:32:02.455905Z",
     "start_time": "2025-04-23T19:32:02.092234Z"
    }
   },
   "source": [
    "import numpy as np\n",
    "\n",
    "sc = SGDClassifier(loss=\"log_loss\", random_state=42)\n",
    "\n",
    "train_score = []\n",
    "test_score = []\n",
    "for _ in range(0, 300, 1):\n",
    "    sc.partial_fit(x_train_scaled, y_train, classes=np.unique(y_train)) \n",
    "    train_score.append(sc.score(x_train_scaled, y_train))\n",
    "    test_score.append(sc.score(x_test_scaled, y_test))"
   ],
   "outputs": [],
   "execution_count": 12
  },
  {
   "cell_type": "code",
   "id": "df6825f3-4f28-46e5-8fa8-5b525cade30f",
   "metadata": {
    "ExecuteTime": {
     "end_time": "2025-04-23T19:32:02.672460Z",
     "start_time": "2025-04-23T19:32:02.462294Z"
    }
   },
   "source": [
    "import matplotlib.pyplot as plt\n",
    "\n",
    "plt.figure(figsize=(10, 3))\n",
    "plt.plot(train_score, label=\"train\", c=\"blue\")\n",
    "plt.plot(test_score, label=\"test\", c=\"red\")\n",
    "plt.xlabel(\"Epoch\")\n",
    "plt.ylabel(\"Accuracy\")\n",
    "plt.legend()\n",
    "plt.grid(True)\n",
    "plt.show()"
   ],
   "outputs": [
    {
     "data": {
      "text/plain": [
       "<Figure size 1000x300 with 1 Axes>"
      ],
      "image/png": "[encoded data removed]"
     },
     "metadata": {},
     "output_type": "display_data"
    }
   ],
   "execution_count": 13
  },
  {
   "cell_type": "code",
   "id": "bf84ed34-1a73-4486-b966-30a9dc7a1f99",
   "metadata": {
    "ExecuteTime": {
     "end_time": "2025-04-23T19:32:02.690148Z",
     "start_time": "2025-04-23T19:32:02.682625Z"
    }
   },
   "source": [
    "sc = SGDClassifier(loss=\"log_loss\", max_iter=100, tol=None, random_state=42)\n",
    "# tolerance : 관용\n",
    "\n",
    "sc.fit(x_train_scaled, y_train)\n",
    "\n",
    "print(\"학습용:\", sc.score(x_train_scaled, y_train))\n",
    "print(\"시험용:\", sc.score(x_test_scaled, y_test))"
   ],
   "outputs": [
    {
     "name": "stdout",
     "output_type": "stream",
     "text": [
      "학습용: 0.957983193277311\n",
      "시험용: 0.925\n"
     ]
    }
   ],
   "execution_count": 14
  },
  {
   "cell_type": "code",
   "id": "abdeec7e-59c4-45ca-b6c1-3e4f3e3c4ccc",
   "metadata": {
    "ExecuteTime": {
     "end_time": "2025-04-23T19:32:04.432696Z",
     "start_time": "2025-04-23T19:32:02.763121Z"
    }
   },
   "source": [
    "sc = SGDClassifier(loss=\"log_loss\", max_iter=2000, tol=None, \n",
    "                   early_stopping=True,\n",
    "                   random_state=42)\n",
    "# tolerance : 관용\n",
    "\n",
    "sc.fit(x_train_scaled, y_train)\n",
    "\n",
    "print(\"학습용:\", sc.score(x_train_scaled, y_train))\n",
    "print(\"시험용:\", sc.score(x_test_scaled, y_test))"
   ],
   "outputs": [
    {
     "name": "stdout",
     "output_type": "stream",
     "text": [
      "학습용: 0.9663865546218487\n",
      "시험용: 0.925\n"
     ]
    }
   ],
   "execution_count": 15
  },
  {
   "cell_type": "code",
   "id": "e1197abc-ca89-47f8-9085-5b8cb6ff4a62",
   "metadata": {
    "ExecuteTime": {
     "end_time": "2025-04-23T19:32:04.448254Z",
     "start_time": "2025-04-23T19:32:04.443005Z"
    }
   },
   "source": [
    "sc = SGDClassifier(loss=\"hinge\", max_iter=100, tol=None, random_state=42)\n",
    "# tolerance : 관용\n",
    "\n",
    "sc.fit(x_train_scaled, y_train)\n",
    "\n",
    "print(\"학습용:\", sc.score(x_train_scaled, y_train))\n",
    "print(\"시험용:\", sc.score(x_test_scaled, y_test))"
   ],
   "outputs": [
    {
     "name": "stdout",
     "output_type": "stream",
     "text": [
      "학습용: 0.9495798319327731\n",
      "시험용: 0.925\n"
     ]
    }
   ],
   "execution_count": 16
  }
 ],
 "metadata": {
  "kernelspec": {
   "display_name": "Python 3 (ipykernel)",
   "language": "python",
   "name": "python3"
  },
  "language_info": {
   "codemirror_mode": {
    "name": "ipython",
    "version": 3
   },
   "file_extension": ".py",
   "mimetype": "text/x-python",
   "name": "python",
   "nbconvert_exporter": "python",
   "pygments_lexer": "ipython3",
   "version": "3.12.9"
  }
 },
 "nbformat": 4,
 "nbformat_minor": 5
}
