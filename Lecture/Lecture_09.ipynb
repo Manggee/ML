{
 "cells": [
  {
   "cell_type": "markdown",
   "id": "4c847434-baee-4262-b6a5-e16fb17d2010",
   "metadata": {},
   "source": [
    "### **Chapter 01. 럭키백의 확률**"
   ]
  },
  {
   "cell_type": "code",
   "id": "6eeca4d5-a19b-4dd6-8dcf-113b66b9ca47",
   "metadata": {
    "ExecuteTime": {
     "end_time": "2025-04-23T19:31:56.159040Z",
     "start_time": "2025-04-23T19:31:56.150405Z"
    }
   },
   "source": [
    "import pandas as pd\n",
    "\n",
    "fish = pd.read_csv(\"Fish.csv\")\n",
    "fish"
   ],
   "outputs": [
    {
     "data": {
      "text/plain": [
       "    Species  Weight  Length1  Length2  Length3   Height   Width\n",
       "0     Bream   242.0     23.2     25.4     30.0  11.5200  4.0200\n",
       "1     Bream   290.0     24.0     26.3     31.2  12.4800  4.3056\n",
       "2     Bream   340.0     23.9     26.5     31.1  12.3778  4.6961\n",
       "3     Bream   363.0     26.3     29.0     33.5  12.7300  4.4555\n",
       "4     Bream   430.0     26.5     29.0     34.0  12.4440  5.1340\n",
       "..      ...     ...      ...      ...      ...      ...     ...\n",
       "154   Smelt    12.2     11.5     12.2     13.4   2.0904  1.3936\n",
       "155   Smelt    13.4     11.7     12.4     13.5   2.4300  1.2690\n",
       "156   Smelt    12.2     12.1     13.0     13.8   2.2770  1.2558\n",
       "157   Smelt    19.7     13.2     14.3     15.2   2.8728  2.0672\n",
       "158   Smelt    19.9     13.8     15.0     16.2   2.9322  1.8792\n",
       "\n",
       "[159 rows x 7 columns]"
      ],
      "text/html": [
       "<div>\n",
       "<style scoped>\n",
       "    .dataframe tbody tr th:only-of-type {\n",
       "        vertical-align: middle;\n",
       "    }\n",
       "\n",
       "    .dataframe tbody tr th {\n",
       "        vertical-align: top;\n",
       "    }\n",
       "\n",
       "    .dataframe thead th {\n",
       "        text-align: right;\n",
       "    }\n",
       "</style>\n",
       "<table border=\"1\" class=\"dataframe\">\n",
       "  <thead>\n",
       "    <tr style=\"text-align: right;\">\n",
       "      <th></th>\n",
       "      <th>Species</th>\n",
       "      <th>Weight</th>\n",
       "      <th>Length1</th>\n",
       "      <th>Length2</th>\n",
       "      <th>Length3</th>\n",
       "      <th>Height</th>\n",
       "      <th>Width</th>\n",
       "    </tr>\n",
       "  </thead>\n",
       "  <tbody>\n",
       "    <tr>\n",
       "      <th>0</th>\n",
       "      <td>Bream</td>\n",
       "      <td>242.0</td>\n",
       "      <td>23.2</td>\n",
       "      <td>25.4</td>\n",
       "      <td>30.0</td>\n",
       "      <td>11.5200</td>\n",
       "      <td>4.0200</td>\n",
       "    </tr>\n",
       "    <tr>\n",
       "      <th>1</th>\n",
       "      <td>Bream</td>\n",
       "      <td>290.0</td>\n",
       "      <td>24.0</td>\n",
       "      <td>26.3</td>\n",
       "      <td>31.2</td>\n",
       "      <td>12.4800</td>\n",
       "      <td>4.3056</td>\n",
       "    </tr>\n",
       "    <tr>\n",
       "      <th>2</th>\n",
       "      <td>Bream</td>\n",
       "      <td>340.0</td>\n",
       "      <td>23.9</td>\n",
       "      <td>26.5</td>\n",
       "      <td>31.1</td>\n",
       "      <td>12.3778</td>\n",
       "      <td>4.6961</td>\n",
       "    </tr>\n",
       "    <tr>\n",
       "      <th>3</th>\n",
       "      <td>Bream</td>\n",
       "      <td>363.0</td>\n",
       "      <td>26.3</td>\n",
       "      <td>29.0</td>\n",
       "      <td>33.5</td>\n",
       "      <td>12.7300</td>\n",
       "      <td>4.4555</td>\n",
       "    </tr>\n",
       "    <tr>\n",
       "      <th>4</th>\n",
       "      <td>Bream</td>\n",
       "      <td>430.0</td>\n",
       "      <td>26.5</td>\n",
       "      <td>29.0</td>\n",
       "      <td>34.0</td>\n",
       "      <td>12.4440</td>\n",
       "      <td>5.1340</td>\n",
       "    </tr>\n",
       "    <tr>\n",
       "      <th>...</th>\n",
       "      <td>...</td>\n",
       "      <td>...</td>\n",
       "      <td>...</td>\n",
       "      <td>...</td>\n",
       "      <td>...</td>\n",
       "      <td>...</td>\n",
       "      <td>...</td>\n",
       "    </tr>\n",
       "    <tr>\n",
       "      <th>154</th>\n",
       "      <td>Smelt</td>\n",
       "      <td>12.2</td>\n",
       "      <td>11.5</td>\n",
       "      <td>12.2</td>\n",
       "      <td>13.4</td>\n",
       "      <td>2.0904</td>\n",
       "      <td>1.3936</td>\n",
       "    </tr>\n",
       "    <tr>\n",
       "      <th>155</th>\n",
       "      <td>Smelt</td>\n",
       "      <td>13.4</td>\n",
       "      <td>11.7</td>\n",
       "      <td>12.4</td>\n",
       "      <td>13.5</td>\n",
       "      <td>2.4300</td>\n",
       "      <td>1.2690</td>\n",
       "    </tr>\n",
       "    <tr>\n",
       "      <th>156</th>\n",
       "      <td>Smelt</td>\n",
       "      <td>12.2</td>\n",
       "      <td>12.1</td>\n",
       "      <td>13.0</td>\n",
       "      <td>13.8</td>\n",
       "      <td>2.2770</td>\n",
       "      <td>1.2558</td>\n",
       "    </tr>\n",
       "    <tr>\n",
       "      <th>157</th>\n",
       "      <td>Smelt</td>\n",
       "      <td>19.7</td>\n",
       "      <td>13.2</td>\n",
       "      <td>14.3</td>\n",
       "      <td>15.2</td>\n",
       "      <td>2.8728</td>\n",
       "      <td>2.0672</td>\n",
       "    </tr>\n",
       "    <tr>\n",
       "      <th>158</th>\n",
       "      <td>Smelt</td>\n",
       "      <td>19.9</td>\n",
       "      <td>13.8</td>\n",
       "      <td>15.0</td>\n",
       "      <td>16.2</td>\n",
       "      <td>2.9322</td>\n",
       "      <td>1.8792</td>\n",
       "    </tr>\n",
       "  </tbody>\n",
       "</table>\n",
       "<p>159 rows × 7 columns</p>\n",
       "</div>"
      ]
     },
     "execution_count": 28,
     "metadata": {},
     "output_type": "execute_result"
    }
   ],
   "execution_count": 28
  },
  {
   "cell_type": "code",
   "id": "1aa5e3c5-c3ff-408b-9758-1096021f9cfd",
   "metadata": {
    "ExecuteTime": {
     "end_time": "2025-04-23T19:31:56.181163Z",
     "start_time": "2025-04-23T19:31:56.179322Z"
    }
   },
   "source": [
    "print(fish.columns)"
   ],
   "outputs": [
    {
     "name": "stdout",
     "output_type": "stream",
     "text": [
      "Index(['Species', 'Weight', 'Length1', 'Length2', 'Length3', 'Height',\n",
      "       'Width'],\n",
      "      dtype='object')\n"
     ]
    }
   ],
   "execution_count": 29
  },
  {
   "cell_type": "code",
   "id": "5f550cf0-8aa3-47d9-8371-d96c3be29f89",
   "metadata": {
    "ExecuteTime": {
     "end_time": "2025-04-23T19:31:56.204196Z",
     "start_time": "2025-04-23T19:31:56.202295Z"
    }
   },
   "source": [
    "print(type(fish[\"Species\"]))\n",
    "print(fish[\"Species\"].shape)    # 1차원 배열!"
   ],
   "outputs": [
    {
     "name": "stdout",
     "output_type": "stream",
     "text": [
      "<class 'pandas.core.series.Series'>\n",
      "(159,)\n"
     ]
    }
   ],
   "execution_count": 30
  },
  {
   "cell_type": "code",
   "id": "891d1d18-9676-478c-b3ce-5d1ad53fd99c",
   "metadata": {
    "ExecuteTime": {
     "end_time": "2025-04-23T19:31:56.234595Z",
     "start_time": "2025-04-23T19:31:56.232964Z"
    }
   },
   "source": [
    "# print(type(fish[[\"Species\"]]))\n",
    "# print(fish[[\"Species\"]].shape)   # 2차원 배열!\n",
    "# # 다변량 회귀"
   ],
   "outputs": [],
   "execution_count": 31
  },
  {
   "cell_type": "code",
   "id": "3f6867ee-5ed2-41e1-94d2-6afbdc4014f2",
   "metadata": {
    "ExecuteTime": {
     "end_time": "2025-04-23T19:31:56.244653Z",
     "start_time": "2025-04-23T19:31:56.243103Z"
    }
   },
   "source": [
    "y = fish[\"Species\"].to_numpy()\n",
    "print(y.shape)\n",
    "print(type(y))\n",
    "print(y[:5])"
   ],
   "outputs": [
    {
     "name": "stdout",
     "output_type": "stream",
     "text": [
      "(159,)\n",
      "<class 'numpy.ndarray'>\n",
      "['Bream' 'Bream' 'Bream' 'Bream' 'Bream']\n"
     ]
    }
   ],
   "execution_count": 32
  },
  {
   "cell_type": "code",
   "id": "e743ebd0-4476-4f6a-934b-719b939f9c3b",
   "metadata": {
    "ExecuteTime": {
     "end_time": "2025-04-23T19:31:56.254606Z",
     "start_time": "2025-04-23T19:31:56.252593Z"
    }
   },
   "source": [
    "x = fish[['Weight', 'Length2', 'Length3', 'Height', 'Width']].to_numpy()\n",
    "print(type(x))\n",
    "print(x[:5])"
   ],
   "outputs": [
    {
     "name": "stdout",
     "output_type": "stream",
     "text": [
      "<class 'numpy.ndarray'>\n",
      "[[242.      25.4     30.      11.52     4.02  ]\n",
      " [290.      26.3     31.2     12.48     4.3056]\n",
      " [340.      26.5     31.1     12.3778   4.6961]\n",
      " [363.      29.      33.5     12.73     4.4555]\n",
      " [430.      29.      34.      12.444    5.134 ]]\n"
     ]
    }
   ],
   "execution_count": 33
  },
  {
   "cell_type": "code",
   "id": "1f87fea3-fdd0-43c7-b6cc-bba7260a7b79",
   "metadata": {
    "ExecuteTime": {
     "end_time": "2025-04-23T19:31:56.277339Z",
     "start_time": "2025-04-23T19:31:56.275030Z"
    }
   },
   "source": [
    "from sklearn.model_selection import train_test_split\n",
    "\n",
    "x_train, x_test, y_train, y_test = train_test_split(x, y, random_state=42)\n",
    "\n",
    "print(x_train.shape, y_train.shape)   # 75%  --> 119마리\n",
    "print(x_test.shape, y_test.shape)     # 25%  -->  40마리"
   ],
   "outputs": [
    {
     "name": "stdout",
     "output_type": "stream",
     "text": [
      "(119, 5) (119,)\n",
      "(40, 5) (40,)\n"
     ]
    }
   ],
   "execution_count": 34
  },
  {
   "cell_type": "code",
   "id": "d0dc06ee-0c03-4e79-8071-a626e167b8ee",
   "metadata": {
    "ExecuteTime": {
     "end_time": "2025-04-23T19:31:56.289339Z",
     "start_time": "2025-04-23T19:31:56.287747Z"
    }
   },
   "source": [
    "print(y_train[:10])"
   ],
   "outputs": [
    {
     "name": "stdout",
     "output_type": "stream",
     "text": [
      "['Bream' 'Pike' 'Smelt' 'Perch' 'Parkki' 'Roach' 'Perch' 'Bream' 'Perch'\n",
      " 'Perch']\n"
     ]
    }
   ],
   "execution_count": 35
  },
  {
   "cell_type": "code",
   "id": "27072f4b-7524-43ce-9706-25e47f7ebdfc",
   "metadata": {
    "ExecuteTime": {
     "end_time": "2025-04-23T19:31:56.301862Z",
     "start_time": "2025-04-23T19:31:56.299101Z"
    }
   },
   "source": [
    "# Feature Scaling \n",
    "# 1) 표준화(Standardization) --> 표준점수(평균, 표준편차) --> 음수~양수\n",
    "# 2) 정규화(Normalization) --> MinMax 정규화 --> 0~1\n",
    "from sklearn.preprocessing import StandardScaler, MinMaxScaler\n",
    "\n",
    "ss = StandardScaler()  # 변환기(Transformer) 클래스\n",
    "\n",
    "ss.fit(x_train)   # 평균, 표준편차\n",
    "\n",
    "x_train_scaled = ss.transform(x_train)\n",
    "x_test_scaled = ss.transform(x_test)\n",
    "\n",
    "print(x_train_scaled[:5])\n",
    "print(x_test_scaled[:5])"
   ],
   "outputs": [
    {
     "name": "stdout",
     "output_type": "stream",
     "text": [
      "[[ 0.91965782  0.60943175  0.81041221  1.85194896  1.00075672]\n",
      " [ 0.30041219  1.54653445  1.45316551 -0.46981663  0.27291745]\n",
      " [-1.0858536  -1.68646987 -1.70848587 -1.70159849 -2.0044758 ]\n",
      " [-0.79734143 -0.60880176 -0.67486907 -0.82480589 -0.27631471]\n",
      " [-0.71289885 -0.73062511 -0.70092664 -0.0802298  -0.7033869 ]]\n",
      "[[-0.88741352 -0.91804565 -1.03098914 -0.90464451 -0.80762518]\n",
      " [-1.06924656 -1.50842035 -1.54345461 -1.58849582 -1.93803151]\n",
      " [-0.54401367  0.35641402  0.30663259 -0.8135697  -0.65388895]\n",
      " [-0.34698097 -0.23396068 -0.22320459 -0.11905019 -0.12233464]\n",
      " [-0.68475132 -0.51509149 -0.58801052 -0.8998784  -0.50124996]]\n"
     ]
    }
   ],
   "execution_count": 36
  },
  {
   "cell_type": "markdown",
   "id": "e72808b5-ca10-4866-a2e5-102eec5d641f",
   "metadata": {},
   "source": [
    "### **Chapter 02. 로지스틱 회귀**"
   ]
  },
  {
   "cell_type": "code",
   "id": "9e2c8856-9612-4960-bacb-53d3a25843da",
   "metadata": {
    "ExecuteTime": {
     "end_time": "2025-04-23T19:31:56.404327Z",
     "start_time": "2025-04-23T19:31:56.370706Z"
    }
   },
   "source": [
    "import numpy as np\n",
    "import matplotlib.pyplot as plt\n",
    "\n",
    "x = np.arange(-10, 10, 0.5)\n",
    "y = 1 / (1 + np.exp(-x))   # exponential\n",
    "\n",
    "plt.figure()\n",
    "plt.plot(x, y, color=\"red\", marker='o')\n",
    "plt.xlabel('x')\n",
    "plt.ylabel('y')\n",
    "plt.grid(True)\n",
    "plt.show()"
   ],
   "outputs": [
    {
     "data": {
      "text/plain": [
       "<Figure size 640x480 with 1 Axes>"
      ],
      "image/png": "[encoded data removed]"
     },
     "metadata": {},
     "output_type": "display_data"
    }
   ],
   "execution_count": 37
  },
  {
   "cell_type": "code",
   "id": "3291bf31-6189-437d-8d41-548b3d9b765e",
   "metadata": {
    "ExecuteTime": {
     "end_time": "2025-04-23T19:31:56.415891Z",
     "start_time": "2025-04-23T19:31:56.413885Z"
    }
   },
   "source": [
    "# 이진 분류 문제\n",
    "# Two Classess: Bream & Smelt (빙어 & 도미)\n",
    "# 불리언 인덱싱(Boolean Indexing)\n",
    "\n",
    "a = np.array([\"INTJ\", \"ENFP\", \"ISTP\", \"ENSP\"])\n",
    "b = np.array([True, True, False, False])\n",
    "print(a)\n",
    "print(b)\n",
    "\n",
    "print(a[b])\n",
    "print(np.sum(b))"
   ],
   "outputs": [
    {
     "name": "stdout",
     "output_type": "stream",
     "text": [
      "['INTJ' 'ENFP' 'ISTP' 'ENSP']\n",
      "[ True  True False False]\n",
      "['INTJ' 'ENFP']\n",
      "2\n"
     ]
    }
   ],
   "execution_count": 38
  },
  {
   "cell_type": "code",
   "id": "bf4cc713-e0c1-4aa9-9ed7-6683a1012833",
   "metadata": {
    "ExecuteTime": {
     "end_time": "2025-04-23T19:31:56.492069Z",
     "start_time": "2025-04-23T19:31:56.489726Z"
    }
   },
   "source": [
    "bream_smelt_index = (y_train == \"Bream\") | (y_train == \"Smelt\")\n",
    "\n",
    "print(np.sum(bream_smelt_index))\n",
    "\n",
    "x_train_bream_smelt = x_train_scaled[bream_smelt_index]\n",
    "y_train_bream_smelt = y_train[bream_smelt_index]\n",
    "\n",
    "print(x_train_bream_smelt.shape, y_train_bream_smelt.shape)"
   ],
   "outputs": [
    {
     "name": "stdout",
     "output_type": "stream",
     "text": [
      "33\n",
      "(33, 5) (33,)\n"
     ]
    }
   ],
   "execution_count": 39
  },
  {
   "cell_type": "code",
   "id": "a97181f4-7540-4a6c-8d5e-d6709c9916a5",
   "metadata": {
    "ExecuteTime": {
     "end_time": "2025-04-23T19:31:56.519716Z",
     "start_time": "2025-04-23T19:31:56.516258Z"
    }
   },
   "source": [
    "from sklearn.linear_model import LogisticRegression\n",
    "\n",
    "lr = LogisticRegression()\n",
    "lr.fit(x_train_bream_smelt, y_train_bream_smelt)"
   ],
   "outputs": [
    {
     "data": {
      "text/plain": [
       "LogisticRegression()"
      ],
      "text/html": [
       "<style>#sk-container-id-2 {\n",
       "  /* Definition of color scheme common for light and dark mode */\n",
       "  --sklearn-color-text: #000;\n",
       "  --sklearn-color-text-muted: #666;\n",
       "  --sklearn-color-line: gray;\n",
       "  /* Definition of color scheme for unfitted estimators */\n",
       "  --sklearn-color-unfitted-level-0: #fff5e6;\n",
       "  --sklearn-color-unfitted-level-1: #f6e4d2;\n",
       "  --sklearn-color-unfitted-level-2: #ffe0b3;\n",
       "  --sklearn-color-unfitted-level-3: chocolate;\n",
       "  /* Definition of color scheme for fitted estimators */\n",
       "  --sklearn-color-fitted-level-0: #f0f8ff;\n",
       "  --sklearn-color-fitted-level-1: #d4ebff;\n",
       "  --sklearn-color-fitted-level-2: #b3dbfd;\n",
       "  --sklearn-color-fitted-level-3: cornflowerblue;\n",
       "\n",
       "  /* Specific color for light theme */\n",
       "  --sklearn-color-text-on-default-background: var(--sg-text-color, var(--theme-code-foreground, var(--jp-content-font-color1, black)));\n",
       "  --sklearn-color-background: var(--sg-background-color, var(--theme-background, var(--jp-layout-color0, white)));\n",
       "  --sklearn-color-border-box: var(--sg-text-color, var(--theme-code-foreground, var(--jp-content-font-color1, black)));\n",
       "  --sklearn-color-icon: #696969;\n",
       "\n",
       "  @media (prefers-color-scheme: dark) {\n",
       "    /* Redefinition of color scheme for dark theme */\n",
       "    --sklearn-color-text-on-default-background: var(--sg-text-color, var(--theme-code-foreground, var(--jp-content-font-color1, white)));\n",
       "    --sklearn-color-background: var(--sg-background-color, var(--theme-background, var(--jp-layout-color0, #111)));\n",
       "    --sklearn-color-border-box: var(--sg-text-color, var(--theme-code-foreground, var(--jp-content-font-color1, white)));\n",
       "    --sklearn-color-icon: #878787;\n",
       "  }\n",
       "}\n",
       "\n",
       "#sk-container-id-2 {\n",
       "  color: var(--sklearn-color-text);\n",
       "}\n",
       "\n",
       "#sk-container-id-2 pre {\n",
       "  padding: 0;\n",
       "}\n",
       "\n",
       "#sk-container-id-2 input.sk-hidden--visually {\n",
       "  border: 0;\n",
       "  clip: rect(1px 1px 1px 1px);\n",
       "  clip: rect(1px, 1px, 1px, 1px);\n",
       "  height: 1px;\n",
       "  margin: -1px;\n",
       "  overflow: hidden;\n",
       "  padding: 0;\n",
       "  position: absolute;\n",
       "  width: 1px;\n",
       "}\n",
       "\n",
       "#sk-container-id-2 div.sk-dashed-wrapped {\n",
       "  border: 1px dashed var(--sklearn-color-line);\n",
       "  margin: 0 0.4em 0.5em 0.4em;\n",
       "  box-sizing: border-box;\n",
       "  padding-bottom: 0.4em;\n",
       "  background-color: var(--sklearn-color-background);\n",
       "}\n",
       "\n",
       "#sk-container-id-2 div.sk-container {\n",
       "  /* jupyter's `normalize.less` sets `[hidden] { display: none; }`\n",
       "     but bootstrap.min.css set `[hidden] { display: none !important; }`\n",
       "     so we also need the `!important` here to be able to override the\n",
       "     default hidden behavior on the sphinx rendered scikit-learn.org.\n",
       "     See: https://github.com/scikit-learn/scikit-learn/issues/21755 */\n",
       "  display: inline-block !important;\n",
       "  position: relative;\n",
       "}\n",
       "\n",
       "#sk-container-id-2 div.sk-text-repr-fallback {\n",
       "  display: none;\n",
       "}\n",
       "\n",
       "div.sk-parallel-item,\n",
       "div.sk-serial,\n",
       "div.sk-item {\n",
       "  /* draw centered vertical line to link estimators */\n",
       "  background-image: linear-gradient(var(--sklearn-color-text-on-default-background), var(--sklearn-color-text-on-default-background));\n",
       "  background-size: 2px 100%;\n",
       "  background-repeat: no-repeat;\n",
       "  background-position: center center;\n",
       "}\n",
       "\n",
       "/* Parallel-specific style estimator block */\n",
       "\n",
       "#sk-container-id-2 div.sk-parallel-item::after {\n",
       "  content: \"\";\n",
       "  width: 100%;\n",
       "  border-bottom: 2px solid var(--sklearn-color-text-on-default-background);\n",
       "  flex-grow: 1;\n",
       "}\n",
       "\n",
       "#sk-container-id-2 div.sk-parallel {\n",
       "  display: flex;\n",
       "  align-items: stretch;\n",
       "  justify-content: center;\n",
       "  background-color: var(--sklearn-color-background);\n",
       "  position: relative;\n",
       "}\n",
       "\n",
       "#sk-container-id-2 div.sk-parallel-item {\n",
       "  display: flex;\n",
       "  flex-direction: column;\n",
       "}\n",
       "\n",
       "#sk-container-id-2 div.sk-parallel-item:first-child::after {\n",
       "  align-self: flex-end;\n",
       "  width: 50%;\n",
       "}\n",
       "\n",
       "#sk-container-id-2 div.sk-parallel-item:last-child::after {\n",
       "  align-self: flex-start;\n",
       "  width: 50%;\n",
       "}\n",
       "\n",
       "#sk-container-id-2 div.sk-parallel-item:only-child::after {\n",
       "  width: 0;\n",
       "}\n",
       "\n",
       "/* Serial-specific style estimator block */\n",
       "\n",
       "#sk-container-id-2 div.sk-serial {\n",
       "  display: flex;\n",
       "  flex-direction: column;\n",
       "  align-items: center;\n",
       "  background-color: var(--sklearn-color-background);\n",
       "  padding-right: 1em;\n",
       "  padding-left: 1em;\n",
       "}\n",
       "\n",
       "\n",
       "/* Toggleable style: style used for estimator/Pipeline/ColumnTransformer box that is\n",
       "clickable and can be expanded/collapsed.\n",
       "- Pipeline and ColumnTransformer use this feature and define the default style\n",
       "- Estimators will overwrite some part of the style using the `sk-estimator` class\n",
       "*/\n",
       "\n",
       "/* Pipeline and ColumnTransformer style (default) */\n",
       "\n",
       "#sk-container-id-2 div.sk-toggleable {\n",
       "  /* Default theme specific background. It is overwritten whether we have a\n",
       "  specific estimator or a Pipeline/ColumnTransformer */\n",
       "  background-color: var(--sklearn-color-background);\n",
       "}\n",
       "\n",
       "/* Toggleable label */\n",
       "#sk-container-id-2 label.sk-toggleable__label {\n",
       "  cursor: pointer;\n",
       "  display: flex;\n",
       "  width: 100%;\n",
       "  margin-bottom: 0;\n",
       "  padding: 0.5em;\n",
       "  box-sizing: border-box;\n",
       "  text-align: center;\n",
       "  align-items: start;\n",
       "  justify-content: space-between;\n",
       "  gap: 0.5em;\n",
       "}\n",
       "\n",
       "#sk-container-id-2 label.sk-toggleable__label .caption {\n",
       "  font-size: 0.6rem;\n",
       "  font-weight: lighter;\n",
       "  color: var(--sklearn-color-text-muted);\n",
       "}\n",
       "\n",
       "#sk-container-id-2 label.sk-toggleable__label-arrow:before {\n",
       "  /* Arrow on the left of the label */\n",
       "  content: \"▸\";\n",
       "  float: left;\n",
       "  margin-right: 0.25em;\n",
       "  color: var(--sklearn-color-icon);\n",
       "}\n",
       "\n",
       "#sk-container-id-2 label.sk-toggleable__label-arrow:hover:before {\n",
       "  color: var(--sklearn-color-text);\n",
       "}\n",
       "\n",
       "/* Toggleable content - dropdown */\n",
       "\n",
       "#sk-container-id-2 div.sk-toggleable__content {\n",
       "  max-height: 0;\n",
       "  max-width: 0;\n",
       "  overflow: hidden;\n",
       "  text-align: left;\n",
       "  /* unfitted */\n",
       "  background-color: var(--sklearn-color-unfitted-level-0);\n",
       "}\n",
       "\n",
       "#sk-container-id-2 div.sk-toggleable__content.fitted {\n",
       "  /* fitted */\n",
       "  background-color: var(--sklearn-color-fitted-level-0);\n",
       "}\n",
       "\n",
       "#sk-container-id-2 div.sk-toggleable__content pre {\n",
       "  margin: 0.2em;\n",
       "  border-radius: 0.25em;\n",
       "  color: var(--sklearn-color-text);\n",
       "  /* unfitted */\n",
       "  background-color: var(--sklearn-color-unfitted-level-0);\n",
       "}\n",
       "\n",
       "#sk-container-id-2 div.sk-toggleable__content.fitted pre {\n",
       "  /* unfitted */\n",
       "  background-color: var(--sklearn-color-fitted-level-0);\n",
       "}\n",
       "\n",
       "#sk-container-id-2 input.sk-toggleable__control:checked~div.sk-toggleable__content {\n",
       "  /* Expand drop-down */\n",
       "  max-height: 200px;\n",
       "  max-width: 100%;\n",
       "  overflow: auto;\n",
       "}\n",
       "\n",
       "#sk-container-id-2 input.sk-toggleable__control:checked~label.sk-toggleable__label-arrow:before {\n",
       "  content: \"▾\";\n",
       "}\n",
       "\n",
       "/* Pipeline/ColumnTransformer-specific style */\n",
       "\n",
       "#sk-container-id-2 div.sk-label input.sk-toggleable__control:checked~label.sk-toggleable__label {\n",
       "  color: var(--sklearn-color-text);\n",
       "  background-color: var(--sklearn-color-unfitted-level-2);\n",
       "}\n",
       "\n",
       "#sk-container-id-2 div.sk-label.fitted input.sk-toggleable__control:checked~label.sk-toggleable__label {\n",
       "  background-color: var(--sklearn-color-fitted-level-2);\n",
       "}\n",
       "\n",
       "/* Estimator-specific style */\n",
       "\n",
       "/* Colorize estimator box */\n",
       "#sk-container-id-2 div.sk-estimator input.sk-toggleable__control:checked~label.sk-toggleable__label {\n",
       "  /* unfitted */\n",
       "  background-color: var(--sklearn-color-unfitted-level-2);\n",
       "}\n",
       "\n",
       "#sk-container-id-2 div.sk-estimator.fitted input.sk-toggleable__control:checked~label.sk-toggleable__label {\n",
       "  /* fitted */\n",
       "  background-color: var(--sklearn-color-fitted-level-2);\n",
       "}\n",
       "\n",
       "#sk-container-id-2 div.sk-label label.sk-toggleable__label,\n",
       "#sk-container-id-2 div.sk-label label {\n",
       "  /* The background is the default theme color */\n",
       "  color: var(--sklearn-color-text-on-default-background);\n",
       "}\n",
       "\n",
       "/* On hover, darken the color of the background */\n",
       "#sk-container-id-2 div.sk-label:hover label.sk-toggleable__label {\n",
       "  color: var(--sklearn-color-text);\n",
       "  background-color: var(--sklearn-color-unfitted-level-2);\n",
       "}\n",
       "\n",
       "/* Label box, darken color on hover, fitted */\n",
       "#sk-container-id-2 div.sk-label.fitted:hover label.sk-toggleable__label.fitted {\n",
       "  color: var(--sklearn-color-text);\n",
       "  background-color: var(--sklearn-color-fitted-level-2);\n",
       "}\n",
       "\n",
       "/* Estimator label */\n",
       "\n",
       "#sk-container-id-2 div.sk-label label {\n",
       "  font-family: monospace;\n",
       "  font-weight: bold;\n",
       "  display: inline-block;\n",
       "  line-height: 1.2em;\n",
       "}\n",
       "\n",
       "#sk-container-id-2 div.sk-label-container {\n",
       "  text-align: center;\n",
       "}\n",
       "\n",
       "/* Estimator-specific */\n",
       "#sk-container-id-2 div.sk-estimator {\n",
       "  font-family: monospace;\n",
       "  border: 1px dotted var(--sklearn-color-border-box);\n",
       "  border-radius: 0.25em;\n",
       "  box-sizing: border-box;\n",
       "  margin-bottom: 0.5em;\n",
       "  /* unfitted */\n",
       "  background-color: var(--sklearn-color-unfitted-level-0);\n",
       "}\n",
       "\n",
       "#sk-container-id-2 div.sk-estimator.fitted {\n",
       "  /* fitted */\n",
       "  background-color: var(--sklearn-color-fitted-level-0);\n",
       "}\n",
       "\n",
       "/* on hover */\n",
       "#sk-container-id-2 div.sk-estimator:hover {\n",
       "  /* unfitted */\n",
       "  background-color: var(--sklearn-color-unfitted-level-2);\n",
       "}\n",
       "\n",
       "#sk-container-id-2 div.sk-estimator.fitted:hover {\n",
       "  /* fitted */\n",
       "  background-color: var(--sklearn-color-fitted-level-2);\n",
       "}\n",
       "\n",
       "/* Specification for estimator info (e.g. \"i\" and \"?\") */\n",
       "\n",
       "/* Common style for \"i\" and \"?\" */\n",
       "\n",
       ".sk-estimator-doc-link,\n",
       "a:link.sk-estimator-doc-link,\n",
       "a:visited.sk-estimator-doc-link {\n",
       "  float: right;\n",
       "  font-size: smaller;\n",
       "  line-height: 1em;\n",
       "  font-family: monospace;\n",
       "  background-color: var(--sklearn-color-background);\n",
       "  border-radius: 1em;\n",
       "  height: 1em;\n",
       "  width: 1em;\n",
       "  text-decoration: none !important;\n",
       "  margin-left: 0.5em;\n",
       "  text-align: center;\n",
       "  /* unfitted */\n",
       "  border: var(--sklearn-color-unfitted-level-1) 1pt solid;\n",
       "  color: var(--sklearn-color-unfitted-level-1);\n",
       "}\n",
       "\n",
       ".sk-estimator-doc-link.fitted,\n",
       "a:link.sk-estimator-doc-link.fitted,\n",
       "a:visited.sk-estimator-doc-link.fitted {\n",
       "  /* fitted */\n",
       "  border: var(--sklearn-color-fitted-level-1) 1pt solid;\n",
       "  color: var(--sklearn-color-fitted-level-1);\n",
       "}\n",
       "\n",
       "/* On hover */\n",
       "div.sk-estimator:hover .sk-estimator-doc-link:hover,\n",
       ".sk-estimator-doc-link:hover,\n",
       "div.sk-label-container:hover .sk-estimator-doc-link:hover,\n",
       ".sk-estimator-doc-link:hover {\n",
       "  /* unfitted */\n",
       "  background-color: var(--sklearn-color-unfitted-level-3);\n",
       "  color: var(--sklearn-color-background);\n",
       "  text-decoration: none;\n",
       "}\n",
       "\n",
       "div.sk-estimator.fitted:hover .sk-estimator-doc-link.fitted:hover,\n",
       ".sk-estimator-doc-link.fitted:hover,\n",
       "div.sk-label-container:hover .sk-estimator-doc-link.fitted:hover,\n",
       ".sk-estimator-doc-link.fitted:hover {\n",
       "  /* fitted */\n",
       "  background-color: var(--sklearn-color-fitted-level-3);\n",
       "  color: var(--sklearn-color-background);\n",
       "  text-decoration: none;\n",
       "}\n",
       "\n",
       "/* Span, style for the box shown on hovering the info icon */\n",
       ".sk-estimator-doc-link span {\n",
       "  display: none;\n",
       "  z-index: 9999;\n",
       "  position: relative;\n",
       "  font-weight: normal;\n",
       "  right: .2ex;\n",
       "  padding: .5ex;\n",
       "  margin: .5ex;\n",
       "  width: min-content;\n",
       "  min-width: 20ex;\n",
       "  max-width: 50ex;\n",
       "  color: var(--sklearn-color-text);\n",
       "  box-shadow: 2pt 2pt 4pt #999;\n",
       "  /* unfitted */\n",
       "  background: var(--sklearn-color-unfitted-level-0);\n",
       "  border: .5pt solid var(--sklearn-color-unfitted-level-3);\n",
       "}\n",
       "\n",
       ".sk-estimator-doc-link.fitted span {\n",
       "  /* fitted */\n",
       "  background: var(--sklearn-color-fitted-level-0);\n",
       "  border: var(--sklearn-color-fitted-level-3);\n",
       "}\n",
       "\n",
       ".sk-estimator-doc-link:hover span {\n",
       "  display: block;\n",
       "}\n",
       "\n",
       "/* \"?\"-specific style due to the `<a>` HTML tag */\n",
       "\n",
       "#sk-container-id-2 a.estimator_doc_link {\n",
       "  float: right;\n",
       "  font-size: 1rem;\n",
       "  line-height: 1em;\n",
       "  font-family: monospace;\n",
       "  background-color: var(--sklearn-color-background);\n",
       "  border-radius: 1rem;\n",
       "  height: 1rem;\n",
       "  width: 1rem;\n",
       "  text-decoration: none;\n",
       "  /* unfitted */\n",
       "  color: var(--sklearn-color-unfitted-level-1);\n",
       "  border: var(--sklearn-color-unfitted-level-1) 1pt solid;\n",
       "}\n",
       "\n",
       "#sk-container-id-2 a.estimator_doc_link.fitted {\n",
       "  /* fitted */\n",
       "  border: var(--sklearn-color-fitted-level-1) 1pt solid;\n",
       "  color: var(--sklearn-color-fitted-level-1);\n",
       "}\n",
       "\n",
       "/* On hover */\n",
       "#sk-container-id-2 a.estimator_doc_link:hover {\n",
       "  /* unfitted */\n",
       "  background-color: var(--sklearn-color-unfitted-level-3);\n",
       "  color: var(--sklearn-color-background);\n",
       "  text-decoration: none;\n",
       "}\n",
       "\n",
       "#sk-container-id-2 a.estimator_doc_link.fitted:hover {\n",
       "  /* fitted */\n",
       "  background-color: var(--sklearn-color-fitted-level-3);\n",
       "}\n",
       "</style><div id=\"sk-container-id-2\" class=\"sk-top-container\"><div class=\"sk-text-repr-fallback\"><pre>LogisticRegression()</pre><b>In a Jupyter environment, please rerun this cell to show the HTML representation or trust the notebook. <br />On GitHub, the HTML representation is unable to render, please try loading this page with nbviewer.org.</b></div><div class=\"sk-container\" hidden><div class=\"sk-item\"><div class=\"sk-estimator fitted sk-toggleable\"><input class=\"sk-toggleable__control sk-hidden--visually\" id=\"sk-estimator-id-2\" type=\"checkbox\" checked><label for=\"sk-estimator-id-2\" class=\"sk-toggleable__label fitted sk-toggleable__label-arrow\"><div><div>LogisticRegression</div></div><div><a class=\"sk-estimator-doc-link fitted\" rel=\"noreferrer\" target=\"_blank\" href=\"https://scikit-learn.org/1.6/modules/generated/sklearn.linear_model.LogisticRegression.html\">?<span>Documentation for LogisticRegression</span></a><span class=\"sk-estimator-doc-link fitted\">i<span>Fitted</span></span></div></label><div class=\"sk-toggleable__content fitted\"><pre>LogisticRegression()</pre></div> </div></div></div></div>"
      ]
     },
     "execution_count": 40,
     "metadata": {},
     "output_type": "execute_result"
    }
   ],
   "execution_count": 40
  },
  {
   "cell_type": "code",
   "id": "8d7f6ce4-376b-4d58-94d9-694adcee62f4",
   "metadata": {
    "ExecuteTime": {
     "end_time": "2025-04-23T19:31:56.542776Z",
     "start_time": "2025-04-23T19:31:56.540934Z"
    }
   },
   "source": [
    "print(lr.predict(x_train_bream_smelt[:5]))"
   ],
   "outputs": [
    {
     "name": "stdout",
     "output_type": "stream",
     "text": [
      "['Bream' 'Smelt' 'Bream' 'Bream' 'Bream']\n"
     ]
    }
   ],
   "execution_count": 41
  },
  {
   "cell_type": "code",
   "id": "690bb45d-6b23-42d9-b1cf-e18f9c331349",
   "metadata": {
    "ExecuteTime": {
     "end_time": "2025-04-23T19:31:56.554770Z",
     "start_time": "2025-04-23T19:31:56.552906Z"
    }
   },
   "source": [
    "print(lr.predict_proba(x_train_bream_smelt[:5]))\n",
    "\n",
    "# 0 ---> 음성 클래스\n",
    "# 1 ---> 양성 클래스\n",
    "\n",
    "#  \"Bream\"(0)   \"Smelt\"(1)\n",
    "# [[0.99760007 0.00239993]   # 샘플 1\n",
    "#  [0.02737325 0.97262675]   # 샘플 2\n",
    "#  [0.99486386 0.00513614]\n",
    "#  [0.98585047 0.01414953]\n",
    "#  [0.99767419 0.00232581]]"
   ],
   "outputs": [
    {
     "name": "stdout",
     "output_type": "stream",
     "text": [
      "[[0.99760007 0.00239993]\n",
      " [0.02737325 0.97262675]\n",
      " [0.99486386 0.00513614]\n",
      " [0.98585047 0.01414953]\n",
      " [0.99767419 0.00232581]]\n"
     ]
    }
   ],
   "execution_count": 42
  },
  {
   "cell_type": "code",
   "id": "1b87c813-787e-4975-b5e6-aa6ab439a852",
   "metadata": {
    "ExecuteTime": {
     "end_time": "2025-04-23T19:31:56.564620Z",
     "start_time": "2025-04-23T19:31:56.562860Z"
    }
   },
   "source": [
    "print(lr.classes_)"
   ],
   "outputs": [
    {
     "name": "stdout",
     "output_type": "stream",
     "text": [
      "['Bream' 'Smelt']\n"
     ]
    }
   ],
   "execution_count": 43
  },
  {
   "cell_type": "code",
   "id": "ae2015bd-5642-4ca1-aaa6-6f75de3c146a",
   "metadata": {
    "ExecuteTime": {
     "end_time": "2025-04-23T19:31:56.575645Z",
     "start_time": "2025-04-23T19:31:56.573921Z"
    }
   },
   "source": [
    "# z = a * weight + b * length2 + c * length3 + ....\n",
    "print(\"계수:\", lr.coef_)\n",
    "print(\"절편:\", lr.intercept_)"
   ],
   "outputs": [
    {
     "name": "stdout",
     "output_type": "stream",
     "text": [
      "계수: [[-0.40451732 -0.57582787 -0.66248158 -1.01329614 -0.73123131]]\n",
      "절편: [-2.16172774]\n"
     ]
    }
   ],
   "execution_count": 44
  },
  {
   "cell_type": "code",
   "id": "cc6e7898-df40-4314-8238-ed0ee190c055",
   "metadata": {
    "ExecuteTime": {
     "end_time": "2025-04-23T19:31:56.589111Z",
     "start_time": "2025-04-23T19:31:56.587269Z"
    }
   },
   "source": [
    "decision = lr.decision_function(x_train_bream_smelt[:5])\n",
    "print(decision)"
   ],
   "outputs": [
    {
     "name": "stdout",
     "output_type": "stream",
     "text": [
      "[-6.02991358  3.57043428 -5.26630496 -4.24382314 -6.06135688]\n"
     ]
    }
   ],
   "execution_count": 45
  },
  {
   "cell_type": "code",
   "id": "c79b6e37-a46b-44f2-82b4-e113bf3b54fc",
   "metadata": {
    "ExecuteTime": {
     "end_time": "2025-04-23T19:31:56.600479Z",
     "start_time": "2025-04-23T19:31:56.598839Z"
    }
   },
   "source": [
    "# science python --> scipy\n",
    "from scipy.special import expit   # 시그모이드 함수\n",
    "\n",
    "#  \"Bream\"(0)   \"Smelt\"(1)\n",
    "# [[0.99760007 0.00239993]   # 샘플 1\n",
    "#  [0.02737325 0.97262675]   # 샘플 2\n",
    "#  [0.99486386 0.00513614]\n",
    "#  [0.98585047 0.01414953]\n",
    "#  [0.99767419 0.00232581]]\n",
    "\n",
    "print(expit(decision))"
   ],
   "outputs": [
    {
     "name": "stdout",
     "output_type": "stream",
     "text": [
      "[0.00239993 0.97262675 0.00513614 0.01414953 0.00232581]\n"
     ]
    }
   ],
   "execution_count": 46
  },
  {
   "cell_type": "code",
   "id": "10b2a5d2-d678-455d-9491-e03da2704fd8",
   "metadata": {
    "ExecuteTime": {
     "end_time": "2025-04-23T19:31:56.610476Z",
     "start_time": "2025-04-23T19:31:56.608839Z"
    }
   },
   "source": [
    "print(lr.max_iter)\n",
    "print(lr.C)"
   ],
   "outputs": [
    {
     "name": "stdout",
     "output_type": "stream",
     "text": [
      "100\n",
      "1.0\n"
     ]
    }
   ],
   "execution_count": 47
  },
  {
   "cell_type": "code",
   "id": "8ff0c649-8757-4456-93df-f6b9632a8eb4",
   "metadata": {
    "ExecuteTime": {
     "end_time": "2025-04-23T19:31:56.625230Z",
     "start_time": "2025-04-23T19:31:56.618447Z"
    }
   },
   "source": [
    "# 다중 분류 문제\n",
    "# Seven Classess\n",
    "\n",
    "lr = LogisticRegression(max_iter=1000, C=20)\n",
    "\n",
    "lr.fit(x_train_scaled, y_train)\n",
    "\n",
    "print(\"학습용:\", lr.score(x_train_scaled, y_train))  # 정확도 (Accuracy)\n",
    "print(\"시험용:\", lr.score(x_test_scaled, y_test))"
   ],
   "outputs": [
    {
     "name": "stdout",
     "output_type": "stream",
     "text": [
      "학습용: 0.9327731092436975\n",
      "시험용: 0.925\n"
     ]
    }
   ],
   "execution_count": 48
  },
  {
   "cell_type": "code",
   "id": "353e88d2-1771-468a-870d-71433d0fbe94",
   "metadata": {
    "ExecuteTime": {
     "end_time": "2025-04-23T19:31:56.634859Z",
     "start_time": "2025-04-23T19:31:56.633240Z"
    }
   },
   "source": [
    "print(lr.predict(x_train_scaled[:5]))"
   ],
   "outputs": [
    {
     "name": "stdout",
     "output_type": "stream",
     "text": [
      "['Bream' 'Pike' 'Smelt' 'Perch' 'Parkki']\n"
     ]
    }
   ],
   "execution_count": 49
  },
  {
   "cell_type": "code",
   "id": "0dadcb96-43fd-4b3c-8075-19e98a0cd1f5",
   "metadata": {
    "ExecuteTime": {
     "end_time": "2025-04-23T19:31:56.644662Z",
     "start_time": "2025-04-23T19:31:56.642897Z"
    }
   },
   "source": [
    "# np.round(decimals=) <-- 반올림\n",
    "# np.ceil(decimals=)  <-- 올림\n",
    "# np.floor(decimals=) <-- 버림\n",
    "\n",
    "print(np.round(lr.predict_proba(x_train_scaled[:5]), decimals=3))"
   ],
   "outputs": [
    {
     "name": "stdout",
     "output_type": "stream",
     "text": [
      "[[0.998 0.001 0.    0.    0.    0.    0.002]\n",
      " [0.    0.    0.001 0.999 0.    0.    0.   ]\n",
      " [0.    0.002 0.051 0.    0.006 0.941 0.   ]\n",
      " [0.    0.001 0.861 0.001 0.134 0.    0.004]\n",
      " [0.009 0.783 0.007 0.    0.188 0.    0.014]]\n"
     ]
    }
   ],
   "execution_count": 50
  },
  {
   "cell_type": "code",
   "id": "27e0289d-9102-4e07-8c68-73e0cf11945e",
   "metadata": {
    "ExecuteTime": {
     "end_time": "2025-04-23T19:31:56.654751Z",
     "start_time": "2025-04-23T19:31:56.653157Z"
    }
   },
   "source": [
    "print(lr.classes_)"
   ],
   "outputs": [
    {
     "name": "stdout",
     "output_type": "stream",
     "text": [
      "['Bream' 'Parkki' 'Perch' 'Pike' 'Roach' 'Smelt' 'Whitefish']\n"
     ]
    }
   ],
   "execution_count": 51
  },
  {
   "cell_type": "code",
   "id": "df6a0439-6a25-472c-a5a1-ac937c1d3463",
   "metadata": {
    "ExecuteTime": {
     "end_time": "2025-04-23T19:31:56.664872Z",
     "start_time": "2025-04-23T19:31:56.663260Z"
    }
   },
   "source": [
    "print(lr.coef_.shape)\n",
    "print(lr.intercept_.shape)"
   ],
   "outputs": [
    {
     "name": "stdout",
     "output_type": "stream",
     "text": [
      "(7, 5)\n",
      "(7,)\n"
     ]
    }
   ],
   "execution_count": 52
  },
  {
   "cell_type": "code",
   "id": "1e1c0e8f-03dc-4254-a811-7b3909e5f60f",
   "metadata": {
    "ExecuteTime": {
     "end_time": "2025-04-23T19:31:56.676650Z",
     "start_time": "2025-04-23T19:31:56.674955Z"
    }
   },
   "source": [
    "decision = lr.decision_function(x_train_scaled[:5])\n",
    "print(np.round(decision, decimals=3))"
   ],
   "outputs": [
    {
     "name": "stdout",
     "output_type": "stream",
     "text": [
      "[[ 13.056   5.65   -3.369  -3.353   2.166 -20.802   6.652]\n",
      " [ -2.307 -12.426   5.518  12.328   1.397  -1.361  -3.149]\n",
      " [-11.891   2.321   5.388  -3.188   3.199   8.304  -4.132]\n",
      " [ -6.05   -1.458   5.979  -1.471   4.119  -1.609   0.489]\n",
      " [  0.116   4.598  -0.178  -3.968   3.171  -4.277   0.539]]\n"
     ]
    }
   ],
   "execution_count": 53
  },
  {
   "cell_type": "code",
   "id": "245702f1-44bf-4228-b12b-42dc4d7954ec",
   "metadata": {
    "ExecuteTime": {
     "end_time": "2025-04-23T19:31:56.686908Z",
     "start_time": "2025-04-23T19:31:56.684932Z"
    }
   },
   "source": [
    "from scipy.special import softmax\n",
    "\n",
    "# [[0.998 0.001 0.    0.    0.    0.    0.002]\n",
    "#  [0.    0.    0.001 0.999 0.    0.    0.   ]\n",
    "#  [0.    0.002 0.051 0.    0.006 0.941 0.   ]\n",
    "#  [0.    0.001 0.861 0.001 0.134 0.    0.004]\n",
    "#  [0.009 0.783 0.007 0.    0.188 0.    0.014]]\n",
    "\n",
    "# (axis=0, axis=1)\n",
    "prob = softmax(decision, axis=1)\n",
    "print(np.round(prob, decimals=3))"
   ],
   "outputs": [
    {
     "name": "stdout",
     "output_type": "stream",
     "text": [
      "[[0.998 0.001 0.    0.    0.    0.    0.002]\n",
      " [0.    0.    0.001 0.999 0.    0.    0.   ]\n",
      " [0.    0.002 0.051 0.    0.006 0.941 0.   ]\n",
      " [0.    0.001 0.861 0.001 0.134 0.    0.004]\n",
      " [0.009 0.783 0.007 0.    0.188 0.    0.014]]\n"
     ]
    }
   ],
   "execution_count": 54
  },
  {
   "cell_type": "code",
   "id": "d24e5027-13f8-4080-85e9-de64367ebb1d",
   "metadata": {
    "ExecuteTime": {
     "end_time": "2025-04-23T19:31:56.696594Z",
     "start_time": "2025-04-23T19:31:56.695324Z"
    }
   },
   "source": [],
   "outputs": [],
   "execution_count": null
  },
  {
   "cell_type": "code",
   "id": "9835ae28-476f-4d40-8058-07e32b4f0dbc",
   "metadata": {
    "ExecuteTime": {
     "end_time": "2025-04-23T19:31:56.706199Z",
     "start_time": "2025-04-23T19:31:56.705040Z"
    }
   },
   "source": [],
   "outputs": [],
   "execution_count": null
  },
  {
   "cell_type": "code",
   "id": "c8e38812-bd4f-4175-9152-c3ed2aab9324",
   "metadata": {
    "ExecuteTime": {
     "end_time": "2025-04-23T19:31:56.715741Z",
     "start_time": "2025-04-23T19:31:56.714458Z"
    }
   },
   "source": [],
   "outputs": [],
   "execution_count": null
  }
 ],
 "metadata": {
  "kernelspec": {
   "display_name": "Python 3 (ipykernel)",
   "language": "python",
   "name": "python3"
  },
  "language_info": {
   "codemirror_mode": {
    "name": "ipython",
    "version": 3
   },
   "file_extension": ".py",
   "mimetype": "text/x-python",
   "name": "python",
   "nbconvert_exporter": "python",
   "pygments_lexer": "ipython3",
   "version": "3.12.9"
  }
 },
 "nbformat": 4,
 "nbformat_minor": 5
}
