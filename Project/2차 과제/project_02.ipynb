{
 "cells": [
  {
   "metadata": {
    "ExecuteTime": {
     "end_time": "2025-04-19T19:00:25.645679Z",
     "start_time": "2025-04-19T19:00:25.566429Z"
    }
   },
   "cell_type": "code",
   "source": [
    "import pandas as pd\n",
    "import numpy as np\n",
    "from sklearn.model_selection import train_test_split\n",
    "from sklearn.preprocessing import PolynomialFeatures, StandardScaler\n",
    "from sklearn.linear_model import Ridge\n",
    "from sklearn.metrics import r2_score\n",
    "\n",
    "# 1. 데이터 불러오기\n",
    "train = pd.read_csv(\"train.csv\")\n",
    "test = pd.read_csv(\"test.csv\")\n",
    "\n",
    "X = train.drop(columns=[\"gold price\"])\n",
    "y = train[\"gold price\"]\n",
    "\n",
    "# 2. 검증용 데이터 분할 (결정계수 확인용)\n",
    "X_train, X_val, y_train, y_val = train_test_split(\n",
    "    X, y, test_size=0.2, random_state=42\n",
    ")\n",
    "\n",
    "# 3. 다항 특성 생성 (6차)\n",
    "poly = PolynomialFeatures(degree=6, include_bias=False)\n",
    "X_train_poly = poly.fit_transform(X_train)\n",
    "X_val_poly = poly.transform(X_val)\n",
    "X_test_poly = poly.transform(test)\n",
    "\n",
    "# 4. 특성 스케일링\n",
    "scaler = StandardScaler()\n",
    "X_train_scaled = scaler.fit_transform(X_train_poly)\n",
    "X_val_scaled = scaler.transform(X_val_poly)\n",
    "X_test_scaled = scaler.transform(X_test_poly)\n",
    "\n",
    "# 5. Ridge 회귀 학습 (α=0.00001)\n",
    "model = Ridge(alpha=0.00001)\n",
    "model.fit(X_train_scaled, y_train)\n",
    "\n",
    "# 6. 결정계수 확인\n",
    "val_pred = model.predict(X_val_scaled)\n",
    "r2 = r2_score(y_val, val_pred)\n",
    "print(\"검증 R² (결정계수):\", round(r2, 6))\n",
    "\n",
    "# 7. 전체 데이터로 재학습\n",
    "X_full_poly = poly.fit_transform(X)\n",
    "X_full_scaled = scaler.fit_transform(X_full_poly)\n",
    "final_model = Ridge(alpha=0.00001)\n",
    "final_model.fit(X_full_scaled, y)\n",
    "\n",
    "# 8. 테스트셋 예측\n",
    "X_test_poly_final = poly.transform(test)\n",
    "X_test_scaled_final = scaler.transform(X_test_poly_final)\n",
    "final_pred = final_model.predict(X_test_scaled_final)\n",
    "\n",
    "# 9. ID를 1부터 시작하도록 설정\n",
    "submission = pd.DataFrame({\n",
    "    \"ID\": test.index + 1,\n",
    "    \"gold price\": final_pred\n",
    "})\n",
    "submission.to_csv(\"submission.csv\", index=False)\n",
    "print(\"✅ 제출 파일 저장 완료: submission.csv (ID는 1부터 시작)\")"
   ],
   "id": "c20661c0e3060bf0",
   "outputs": [
    {
     "name": "stdout",
     "output_type": "stream",
     "text": [
      "검증 R² (결정계수): 0.994505\n",
      "✅ 제출 파일 저장 완료: submission.csv (ID는 1부터 시작)\n"
     ]
    }
   ],
   "execution_count": 13
  }
 ],
 "metadata": {
  "kernelspec": {
   "display_name": "Python 3",
   "language": "python",
   "name": "python3"
  },
  "language_info": {
   "codemirror_mode": {
    "name": "ipython",
    "version": 2
   },
   "file_extension": ".py",
   "mimetype": "text/x-python",
   "name": "python",
   "nbconvert_exporter": "python",
   "pygments_lexer": "ipython2",
   "version": "2.7.6"
  }
 },
 "nbformat": 4,
 "nbformat_minor": 5
}
