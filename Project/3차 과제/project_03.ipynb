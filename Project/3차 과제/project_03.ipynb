{
 "cells": [
  {
   "metadata": {
    "ExecuteTime": {
     "end_time": "2025-05-03T12:28:29.564678Z",
     "start_time": "2025-05-03T12:28:29.464353Z"
    }
   },
   "cell_type": "code",
   "source": [
    "import pandas as pd\n",
    "from sklearn.model_selection import train_test_split\n",
    "from sklearn.preprocessing import StandardScaler\n",
    "from sklearn.ensemble import RandomForestClassifier\n",
    "from sklearn.metrics import accuracy_score\n",
    "\n",
    "# 1. 데이터 불러오기\n",
    "train_df = pd.read_csv('train.csv')\n",
    "test_df = pd.read_csv('test.csv')\n",
    "\n",
    "# 2. 전처리\n",
    "X = train_df.drop(columns='Rain')\n",
    "y = train_df['Rain'].map({'no rain': 0, 'rain': 1})  # 문자 → 숫자 라벨링\n",
    "\n",
    "# 3. 정규화\n",
    "scaler = StandardScaler()\n",
    "X_scaled = scaler.fit_transform(X)\n",
    "test_scaled = scaler.transform(test_df)\n",
    "\n",
    "# 4. 학습/검증 분할\n",
    "X_train, X_val, y_train, y_val = train_test_split(\n",
    "    X_scaled, y, test_size=0.2, random_state=42)\n",
    "\n",
    "# 5. 모델 훈련 (RandomForest 사용)\n",
    "model = RandomForestClassifier(random_state=42, n_estimators=100, max_depth=5)\n",
    "model.fit(X_train, y_train)\n",
    "\n",
    "# 6. 검증 데이터 정확도 확인\n",
    "val_pred = model.predict(X_val)\n",
    "val_acc = accuracy_score(y_val, val_pred)\n",
    "print(f\"✅ Validation Accuracy: {val_acc:.5f}\")  # ex) 0.99500\n",
    "\n",
    "# 7. 테스트 데이터 예측 및 제출파일 생성\n",
    "test_pred = model.predict(test_scaled)\n",
    "test_pred_label = ['rain' if p == 1 else 'no rain' for p in test_pred]\n",
    "\n",
    "# ID 컬럼은 1부터 시작해서 len(test.csv)까지 생성\n",
    "submission = pd.DataFrame({\n",
    "    'ID': range(1, len(test_pred_label)+1),\n",
    "    'Rain': test_pred_label\n",
    "})\n",
    "\n",
    "submission.to_csv('new2_submission.csv', index=False)\n",
    "print(\"📁 submission.csv 저장 완료 (ID 포함)\")"
   ],
   "id": "f750a14c7bb3aad",
   "outputs": [
    {
     "name": "stdout",
     "output_type": "stream",
     "text": [
      "✅ Validation Accuracy: 0.99500\n",
      "📁 submission.csv 저장 완료 (ID 포함)\n"
     ]
    }
   ],
   "execution_count": 9
  }
 ],
 "metadata": {
  "kernelspec": {
   "display_name": "Python 3",
   "language": "python",
   "name": "python3"
  },
  "language_info": {
   "codemirror_mode": {
    "name": "ipython",
    "version": 2
   },
   "file_extension": ".py",
   "mimetype": "text/x-python",
   "name": "python",
   "nbconvert_exporter": "python",
   "pygments_lexer": "ipython2",
   "version": "2.7.6"
  }
 },
 "nbformat": 4,
 "nbformat_minor": 5
}
