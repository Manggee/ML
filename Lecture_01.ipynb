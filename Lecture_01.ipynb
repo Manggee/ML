{
 "cells": [
  {
   "metadata": {},
   "cell_type": "markdown",
   "source": "### Chapter 01. 데이터 준비와 탐색",
   "id": "58dae2ec7b6aa592"
  },
  {
   "metadata": {
    "ExecuteTime": {
     "end_time": "2025-03-27T02:05:33.000631Z",
     "start_time": "2025-03-27T02:05:32.986853Z"
    }
   },
   "cell_type": "code",
   "source": [
    "import csv\n",
    "\n",
    "# 스트림 개방!\n",
    "f = open('Fish.csv', 'r')\n",
    "data = csv.reader(f)\n",
    "\n",
    "header = next(data)\n",
    "\n",
    "perch_weight = []\n",
    "perch_length = []\n",
    "\n",
    "for row in data:\n",
    "    if row[0] == 'Perch':\n",
    "        row[1] = float(row[1]) # 강제 형 변환 (str -> float)\n",
    "        row[3] = float(row[3])\n",
    "        \n",
    "        perch_weight.append(row[1])\n",
    "        perch_length.append(row[3])\n",
    "# 스트림 폐쇄\n",
    "f.close()\n",
    "\n",
    "print('농어의 무게(y):', perch_weight)\n",
    "print('농어의 길이(x):', perch_length)"
   ],
   "id": "8e9228d3f408f006",
   "outputs": [
    {
     "name": "stdout",
     "output_type": "stream",
     "text": [
      "농어의 무게(y): [5.9, 32.0, 40.0, 51.5, 70.0, 100.0, 78.0, 80.0, 85.0, 85.0, 110.0, 115.0, 125.0, 130.0, 120.0, 120.0, 130.0, 135.0, 110.0, 130.0, 150.0, 145.0, 150.0, 170.0, 225.0, 145.0, 188.0, 180.0, 197.0, 218.0, 300.0, 260.0, 265.0, 250.0, 250.0, 300.0, 320.0, 514.0, 556.0, 840.0, 685.0, 700.0, 700.0, 690.0, 900.0, 650.0, 820.0, 850.0, 900.0, 1015.0, 820.0, 1100.0, 1000.0, 1100.0, 1000.0, 1000.0]\n",
      "농어의 길이(x): [8.4, 13.7, 15.0, 16.2, 17.4, 18.0, 18.7, 19.0, 19.6, 20.0, 21.0, 21.0, 21.0, 21.3, 22.0, 22.0, 22.0, 22.0, 22.0, 22.5, 22.5, 22.7, 23.0, 23.5, 24.0, 24.0, 24.6, 25.0, 25.6, 26.5, 27.3, 27.5, 27.5, 27.5, 28.0, 28.7, 30.0, 32.8, 34.5, 35.0, 36.5, 36.0, 37.0, 37.0, 39.0, 39.0, 39.0, 40.0, 40.0, 40.0, 40.0, 42.0, 43.0, 43.0, 43.5, 44.0]\n"
     ]
    }
   ],
   "execution_count": 2
  },
  {
   "metadata": {
    "ExecuteTime": {
     "end_time": "2025-03-27T02:05:36.231538Z",
     "start_time": "2025-03-27T02:05:35.715514Z"
    }
   },
   "cell_type": "code",
   "source": [
    "import matplotlib.pyplot as plt\n",
    "\n",
    "# scatter plot(산점도) : 산포되어 있는 점들(Points)의 그림\n",
    "plt.figure()\n",
    "plt.scatter(perch_weight, perch_length)\n",
    "plt.xlabel('length [cm]')\n",
    "plt.ylabel('weight [g]')\n",
    "plt.grid(True)\n",
    "plt.show()\n",
    "\n",
    "# 물고기의 길이가 길어질수록 무게가 무겁다는 추측을 할 수 있다.\n"
   ],
   "id": "1df1ada5c8a89bd7",
   "outputs": [
    {
     "data": {
      "text/plain": [
       "<Figure size 640x480 with 1 Axes>"
      ],
      "image/png": "[encoded data removed]"
     },
     "metadata": {},
     "output_type": "display_data"
    }
   ],
   "execution_count": 3
  },
  {
   "metadata": {},
   "cell_type": "markdown",
   "source": "### Chapter 02. 데이터 전처리",
   "id": "dd743209bd76b4bb"
  },
  {
   "metadata": {
    "ExecuteTime": {
     "end_time": "2025-03-27T02:05:38.551624Z",
     "start_time": "2025-03-27T02:05:38.548620Z"
    }
   },
   "cell_type": "code",
   "source": [
    "import numpy as np\n",
    "\n",
    "print(\"before:\", type(perch_weight))\n",
    "\n",
    "y = np.array(perch_weight)\n",
    "x = np.array(perch_length)\n",
    "\n",
    "print(\"after:\", type(y)) # ndarray : n dimensional array"
   ],
   "id": "3aca6200946f76eb",
   "outputs": [
    {
     "name": "stdout",
     "output_type": "stream",
     "text": [
      "before: <class 'list'>\n",
      "after: <class 'numpy.ndarray'>\n"
     ]
    }
   ],
   "execution_count": 4
  },
  {
   "metadata": {
    "ExecuteTime": {
     "end_time": "2025-03-27T02:05:40.416636Z",
     "start_time": "2025-03-27T02:05:40.413338Z"
    }
   },
   "cell_type": "code",
   "source": [
    "print('x:' , x)\n",
    "print('y:' , y)\n",
    "\n",
    "# 쉼표가 사라졌음!"
   ],
   "id": "d9230bca4c9fcbe9",
   "outputs": [
    {
     "name": "stdout",
     "output_type": "stream",
     "text": [
      "x: [ 8.4 13.7 15.  16.2 17.4 18.  18.7 19.  19.6 20.  21.  21.  21.  21.3\n",
      " 22.  22.  22.  22.  22.  22.5 22.5 22.7 23.  23.5 24.  24.  24.6 25.\n",
      " 25.6 26.5 27.3 27.5 27.5 27.5 28.  28.7 30.  32.8 34.5 35.  36.5 36.\n",
      " 37.  37.  39.  39.  39.  40.  40.  40.  40.  42.  43.  43.  43.5 44. ]\n",
      "y: [   5.9   32.    40.    51.5   70.   100.    78.    80.    85.    85.\n",
      "  110.   115.   125.   130.   120.   120.   130.   135.   110.   130.\n",
      "  150.   145.   150.   170.   225.   145.   188.   180.   197.   218.\n",
      "  300.   260.   265.   250.   250.   300.   320.   514.   556.   840.\n",
      "  685.   700.   700.   690.   900.   650.   820.   850.   900.  1015.\n",
      "  820.  1100.  1000.  1100.  1000.  1000. ]\n"
     ]
    }
   ],
   "execution_count": 5
  },
  {
   "metadata": {
    "ExecuteTime": {
     "end_time": "2025-03-27T02:05:41.761593Z",
     "start_time": "2025-03-27T02:05:41.758892Z"
    }
   },
   "cell_type": "code",
   "source": [
    "print(x.shape)\n",
    "print(y.shape)\n",
    "# 각각 몇 개의 원소를 담고있는지 알 수 있다."
   ],
   "id": "bc19c707934d816f",
   "outputs": [
    {
     "name": "stdout",
     "output_type": "stream",
     "text": [
      "(56,)\n",
      "(56,)\n"
     ]
    }
   ],
   "execution_count": 6
  },
  {
   "metadata": {},
   "cell_type": "markdown",
   "source": [
    "#### 📌 학습용 & 시험용 데이터 세트로 분할해야함!\n",
    "#### **scikit-learn (sklearn)**\n",
    "\n",
    "> 1) Classification\n",
    "> 2) Regression\n",
    "> 3) Clusturing\n",
    "> 4) Dimensionality Reduction\n",
    "> 5) Model Selection\n",
    "> 6) Pre.Processing"
   ],
   "id": "a5a021c9358eae79"
  },
  {
   "metadata": {
    "ExecuteTime": {
     "end_time": "2025-03-27T02:05:47.871603Z",
     "start_time": "2025-03-27T02:05:45.330262Z"
    }
   },
   "cell_type": "code",
   "source": [
    "from sklearn.model_selection import train_test_split\n",
    "\n",
    "x_train, x_test, y_train, y_test = train_test_split(x, y, random_state=42)\n",
    "\n",
    "print(x_train.shape, x_test.shape)\n",
    "print(y_train.shape, y_test.shape)\n"
   ],
   "id": "4f20eba10116d54d",
   "outputs": [
    {
     "name": "stdout",
     "output_type": "stream",
     "text": [
      "(42,) (14,)\n",
      "(42,) (14,)\n"
     ]
    }
   ],
   "execution_count": 7
  },
  {
   "metadata": {
    "ExecuteTime": {
     "end_time": "2025-03-27T02:05:49.059356Z",
     "start_time": "2025-03-27T02:05:49.056915Z"
    }
   },
   "cell_type": "code",
   "source": [
    "x_train = x_train.reshape(42, 1)\n",
    "print(x_train.shape)"
   ],
   "id": "de4a4486884694a9",
   "outputs": [
    {
     "name": "stdout",
     "output_type": "stream",
     "text": [
      "(42, 1)\n"
     ]
    }
   ],
   "execution_count": 8
  },
  {
   "metadata": {
    "ExecuteTime": {
     "end_time": "2025-03-27T02:05:50.209022Z",
     "start_time": "2025-03-27T02:05:50.206527Z"
    }
   },
   "cell_type": "code",
   "source": [
    "x_test = x_test.reshape(-1, 1)\n",
    "print(x_test.shape)"
   ],
   "id": "62c1703d5c0b97f5",
   "outputs": [
    {
     "name": "stdout",
     "output_type": "stream",
     "text": [
      "(14, 1)\n"
     ]
    }
   ],
   "execution_count": 9
  },
  {
   "metadata": {},
   "cell_type": "markdown",
   "source": "### Chapter 03. 선형 회귀",
   "id": "d910700524c922ee"
  },
  {
   "metadata": {
    "ExecuteTime": {
     "end_time": "2025-03-27T02:05:53.292835Z",
     "start_time": "2025-03-27T02:05:53.082117Z"
    }
   },
   "cell_type": "code",
   "source": [
    "from sklearn.linear_model import LinearRegression\n",
    "\n",
    "lr = LinearRegression()\n",
    "\n",
    "# 모델 학습\n",
    "lr.fit(x_train, y_train)\n",
    "\n",
    "x_new_length = [[50]]\n",
    "y_pred = lr.predict(x_new_length)\n",
    "print('길이가 50인 농어의 예측 무게:', y_pred)"
   ],
   "id": "6c105c33fdb5f983",
   "outputs": [
    {
     "name": "stdout",
     "output_type": "stream",
     "text": [
      "길이가 50인 농어의 예측 무게: [1241.83860323]\n"
     ]
    }
   ],
   "execution_count": 10
  },
  {
   "metadata": {
    "ExecuteTime": {
     "end_time": "2025-03-27T02:05:54.546149Z",
     "start_time": "2025-03-27T02:05:54.506533Z"
    }
   },
   "cell_type": "code",
   "source": [
    "plt.figure()\n",
    "plt.scatter(x_train, y_train)\n",
    "\n",
    "plt.plot([15,50], [15 * lr.coef_ + lr.intercept_, 50 * lr.coef_ + lr.intercept_])\n",
    "\n",
    "plt.scatter(50, 1241.8, marker='^', color='red')\n",
    "plt.xlabel('length [cm]')\n",
    "plt.ylabel('weight [g]')\n",
    "plt.grid(True)\n",
    "plt.show()"
   ],
   "id": "d7d9731d98e2fa7a",
   "outputs": [
    {
     "data": {
      "text/plain": [
       "<Figure size 640x480 with 1 Axes>"
      ],
      "image/png": "[encoded data removed]"
     },
     "metadata": {},
     "output_type": "display_data"
    }
   ],
   "execution_count": 11
  },
  {
   "metadata": {
    "ExecuteTime": {
     "end_time": "2025-03-27T02:05:55.816668Z",
     "start_time": "2025-03-27T02:05:55.814119Z"
    }
   },
   "cell_type": "code",
   "source": "print(lr.score(x_test, y_test))",
   "id": "497de995e714e6b5",
   "outputs": [
    {
     "name": "stdout",
     "output_type": "stream",
     "text": [
      "0.8247503123313559\n"
     ]
    }
   ],
   "execution_count": 12
  },
  {
   "metadata": {},
   "cell_type": "markdown",
   "source": "### Chapter 04. 다항 회귀",
   "id": "5ce906e175b7ea6"
  },
  {
   "metadata": {
    "ExecuteTime": {
     "end_time": "2025-03-27T02:20:24.669461Z",
     "start_time": "2025-03-27T02:20:24.666511Z"
    }
   },
   "cell_type": "code",
   "source": [
    "# 제곱 : X * * 2\n",
    "x_train_poly = np.column_stack((x_train ** 2, x_train))\n",
    "print(x_train_poly.shape)"
   ],
   "id": "4b28e15a4e6c4537",
   "outputs": [
    {
     "name": "stdout",
     "output_type": "stream",
     "text": [
      "(42, 2)\n"
     ]
    }
   ],
   "execution_count": 17
  },
  {
   "metadata": {
    "ExecuteTime": {
     "end_time": "2025-03-27T02:21:05.143255Z",
     "start_time": "2025-03-27T02:21:05.140886Z"
    }
   },
   "cell_type": "code",
   "source": [
    "x_test_poly = np.column_stack((x_test ** 2, x_test))\n",
    "print(x_test_poly.shape)"
   ],
   "id": "809b0db764433d42",
   "outputs": [
    {
     "name": "stdout",
     "output_type": "stream",
     "text": [
      "(14, 2)\n"
     ]
    }
   ],
   "execution_count": 19
  },
  {
   "metadata": {
    "ExecuteTime": {
     "end_time": "2025-03-27T02:23:44.369827Z",
     "start_time": "2025-03-27T02:23:44.362732Z"
    }
   },
   "cell_type": "code",
   "source": [
    "lr = LinearRegression()\n",
    "\n",
    "lr.fit(x_train_poly, y_train)\n",
    "\n",
    "lr.predict([[50 ** 2, 50]])\n",
    "print(\"길이가 50cm인 농어의 무게 예측값:\", y_pred)"
   ],
   "id": "70c0a32478ae407a",
   "outputs": [
    {
     "name": "stdout",
     "output_type": "stream",
     "text": [
      "길이가 50cm인 농어의 무게 예측값: [1241.83860323]\n"
     ]
    }
   ],
   "execution_count": 20
  },
  {
   "metadata": {
    "ExecuteTime": {
     "end_time": "2025-03-27T02:30:53.484010Z",
     "start_time": "2025-03-27T02:30:53.481038Z"
    }
   },
   "cell_type": "code",
   "source": [
    "# y = a * x^2 + b * x + c\n",
    "# a, b -> coefficients -> coef_\n",
    "# c -> y-intercept -> intercept_\n",
    "\n",
    "print(\"a =\", lr.coef_[0])\n",
    "print(\"b =\", lr.coef_[1])\n",
    "print(\"c =\", lr.intercept_)\n",
    "\n",
    "a = lr.coef_[0]\n",
    "b = lr.coef_[1]\n",
    "c =  lr.intercept_"
   ],
   "id": "a5f0f25c0ff8ee6b",
   "outputs": [
    {
     "name": "stdout",
     "output_type": "stream",
     "text": [
      "a = 1.0143321093767304\n",
      "b = -21.557924978837352\n",
      "c = 116.05021078278247\n"
     ]
    }
   ],
   "execution_count": 26
  },
  {
   "metadata": {
    "ExecuteTime": {
     "end_time": "2025-03-27T02:41:55.555441Z",
     "start_time": "2025-03-27T02:41:55.505672Z"
    }
   },
   "cell_type": "code",
   "source": [
    "plt.figure()\n",
    "\n",
    "point_x = np.arange(10, 50, 1) # (시작숫자, 끝숫자, 간격)\n",
    "point_y = a * point_x ** 2 + b * point_x + c # ^ -> bitwise\n",
    "\n",
    "plt.scatter(x_train, y_train, c='purple')\n",
    "\n",
    "plt.plot(point_x, point_y, color='red')\n",
    "\n",
    "plt.scatter(50, lr.predict([[50 ** 2, 50]]), marker='^', color='red')\n",
    "\n",
    "plt.xlabel('Length (cm)')\n",
    "plt.ylabel('Weight (g)')\n",
    "plt.grid(True)\n",
    "plt.show()"
   ],
   "id": "97f37b4c101836a",
   "outputs": [
    {
     "data": {
      "text/plain": [
       "<Figure size 640x480 with 1 Axes>"
      ],
      "image/png": "[encoded data removed]"
     },
     "metadata": {},
     "output_type": "display_data"
    }
   ],
   "execution_count": 38
  },
  {
   "metadata": {},
   "cell_type": "code",
   "outputs": [],
   "execution_count": null,
   "source": "",
   "id": "49569960b4cef280"
  }
 ],
 "metadata": {
  "kernelspec": {
   "display_name": "Python 3",
   "language": "python",
   "name": "python3"
  },
  "language_info": {
   "codemirror_mode": {
    "name": "ipython",
    "version": 2
   },
   "file_extension": ".py",
   "mimetype": "text/x-python",
   "name": "python",
   "nbconvert_exporter": "python",
   "pygments_lexer": "ipython2",
   "version": "2.7.6"
  }
 },
 "nbformat": 4,
 "nbformat_minor": 5
}
