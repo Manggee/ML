{
 "cells": [
  {
   "metadata": {},
   "cell_type": "markdown",
   "source": [
    "### Chapter 01. 데이터 준비와 탐색\n",
    "\n",
    "- 목표는 농어다."
   ],
   "id": "67ee3be02e67ca42"
  },
  {
   "metadata": {
    "ExecuteTime": {
     "end_time": "2025-04-11T11:29:14.966144Z",
     "start_time": "2025-04-11T11:29:14.962225Z"
    }
   },
   "cell_type": "code",
   "source": [
    "import csv\n",
    "\n",
    "# 스트림 개방\n",
    "f = open('Fish.csv', 'r')\n",
    "data = csv.reader(f) # f는 고속도로라고 생각하기\n",
    "\n",
    "header = next(data)\n",
    "\n",
    "perch_weight = [] # 비어있는 리스트 생성\n",
    "perch_length = []\n",
    "\n",
    "for row in data:\n",
    "    if row[0] == 'Perch':\n",
    "        # 강제 형 변환 (str -> float)\n",
    "        row[1] = float(row[1]) # 농어의 무게 \n",
    "        row[3] = float(row[3]) # 농어의 길이\n",
    "        \n",
    "        perch_weight.append(row[1])\n",
    "        perch_length.append(row[3])\n",
    "        \n",
    "    #print(row)\n",
    "\n",
    "# 스트림 폐쇄 \n",
    "f.close()\n",
    "print(\"농어의 무게(y):\", perch_weight)\n",
    "print(\"농어의 길이(x):\", perch_length)"
   ],
   "id": "afca48a971f62aa9",
   "outputs": [
    {
     "name": "stdout",
     "output_type": "stream",
     "text": [
      "농어의 무게(y): [5.9, 32.0, 40.0, 51.5, 70.0, 100.0, 78.0, 80.0, 85.0, 85.0, 110.0, 115.0, 125.0, 130.0, 120.0, 120.0, 130.0, 135.0, 110.0, 130.0, 150.0, 145.0, 150.0, 170.0, 225.0, 145.0, 188.0, 180.0, 197.0, 218.0, 300.0, 260.0, 265.0, 250.0, 250.0, 300.0, 320.0, 514.0, 556.0, 840.0, 685.0, 700.0, 700.0, 690.0, 900.0, 650.0, 820.0, 850.0, 900.0, 1015.0, 820.0, 1100.0, 1000.0, 1100.0, 1000.0, 1000.0]\n",
      "농어의 길이(x): [8.4, 13.7, 15.0, 16.2, 17.4, 18.0, 18.7, 19.0, 19.6, 20.0, 21.0, 21.0, 21.0, 21.3, 22.0, 22.0, 22.0, 22.0, 22.0, 22.5, 22.5, 22.7, 23.0, 23.5, 24.0, 24.0, 24.6, 25.0, 25.6, 26.5, 27.3, 27.5, 27.5, 27.5, 28.0, 28.7, 30.0, 32.8, 34.5, 35.0, 36.5, 36.0, 37.0, 37.0, 39.0, 39.0, 39.0, 40.0, 40.0, 40.0, 40.0, 42.0, 43.0, 43.0, 43.5, 44.0]\n"
     ]
    }
   ],
   "execution_count": 23
  },
  {
   "metadata": {
    "ExecuteTime": {
     "end_time": "2025-04-11T11:29:14.985348Z",
     "start_time": "2025-04-11T11:29:14.983658Z"
    }
   },
   "cell_type": "code",
   "source": "print(header)",
   "id": "5d8a32907334a36f",
   "outputs": [
    {
     "name": "stdout",
     "output_type": "stream",
     "text": [
      "['\\ufeffSpecies', 'Weight', 'Length1', 'Length2', 'Length3', 'Height', 'Width']\n"
     ]
    }
   ],
   "execution_count": 24
  },
  {
   "metadata": {
    "ExecuteTime": {
     "end_time": "2025-04-11T11:29:15.025913Z",
     "start_time": "2025-04-11T11:29:14.994136Z"
    }
   },
   "cell_type": "code",
   "source": [
    "import matplotlib.pyplot as plt # alias = as\n",
    "\n",
    "# 산점도(scatter plot) 그리기 --> 산포되어 있는 점들의 그림\n",
    "plt.figure()\n",
    "plt.scatter(perch_length, perch_weight, c='red') # ([x좌표], [y좌표])\n",
    "plt.xlabel('length [cm]')\n",
    "plt.ylabel('weight [g]')\n",
    "plt.grid(True)\n",
    "plt.show()"
   ],
   "id": "5da0e1bea1af6ddf",
   "outputs": [
    {
     "data": {
      "text/plain": [
       "<Figure size 640x480 with 1 Axes>"
      ],
      "image/png": "[encoded data removed]"
     },
     "metadata": {},
     "output_type": "display_data"
    }
   ],
   "execution_count": 25
  },
  {
   "metadata": {},
   "cell_type": "markdown",
   "source": "### Chapter 02. 데이터 전처리",
   "id": "9903b81775e07bf0"
  },
  {
   "metadata": {
    "ExecuteTime": {
     "end_time": "2025-04-11T11:29:15.041693Z",
     "start_time": "2025-04-11T11:29:15.039800Z"
    }
   },
   "cell_type": "code",
   "source": [
    "import numpy as np # Numerical Python\n",
    "\n",
    "print('이전:', type(perch_weight))\n",
    "\n",
    "y = np.array(perch_weight) # ndarray = n-dimensional array (n차원 배열)\n",
    "x = np.array(perch_length)\n",
    "\n",
    "print('이후:', type(y))"
   ],
   "id": "29e747be76361c04",
   "outputs": [
    {
     "name": "stdout",
     "output_type": "stream",
     "text": [
      "이전: <class 'list'>\n",
      "이후: <class 'numpy.ndarray'>\n"
     ]
    }
   ],
   "execution_count": 26
  },
  {
   "metadata": {
    "ExecuteTime": {
     "end_time": "2025-04-11T11:29:15.054725Z",
     "start_time": "2025-04-11T11:29:15.052663Z"
    }
   },
   "cell_type": "code",
   "source": [
    "print('x=', x)\n",
    "print('y=', y)\n",
    "# 쉼표가 사라진 걸 알 수 있음"
   ],
   "id": "9cb1ed34ff6df31f",
   "outputs": [
    {
     "name": "stdout",
     "output_type": "stream",
     "text": [
      "x= [ 8.4 13.7 15.  16.2 17.4 18.  18.7 19.  19.6 20.  21.  21.  21.  21.3\n",
      " 22.  22.  22.  22.  22.  22.5 22.5 22.7 23.  23.5 24.  24.  24.6 25.\n",
      " 25.6 26.5 27.3 27.5 27.5 27.5 28.  28.7 30.  32.8 34.5 35.  36.5 36.\n",
      " 37.  37.  39.  39.  39.  40.  40.  40.  40.  42.  43.  43.  43.5 44. ]\n",
      "y= [   5.9   32.    40.    51.5   70.   100.    78.    80.    85.    85.\n",
      "  110.   115.   125.   130.   120.   120.   130.   135.   110.   130.\n",
      "  150.   145.   150.   170.   225.   145.   188.   180.   197.   218.\n",
      "  300.   260.   265.   250.   250.   300.   320.   514.   556.   840.\n",
      "  685.   700.   700.   690.   900.   650.   820.   850.   900.  1015.\n",
      "  820.  1100.  1000.  1100.  1000.  1000. ]\n"
     ]
    }
   ],
   "execution_count": 27
  },
  {
   "metadata": {
    "ExecuteTime": {
     "end_time": "2025-04-11T11:29:15.076297Z",
     "start_time": "2025-04-11T11:29:15.074552Z"
    }
   },
   "cell_type": "code",
   "source": [
    "print(x.shape)\n",
    "print(y.shape) # shape: 리스트 안에 원소가 몇 개 있는지 확인"
   ],
   "id": "4f8a584908fc6e73",
   "outputs": [
    {
     "name": "stdout",
     "output_type": "stream",
     "text": [
      "(56,)\n",
      "(56,)\n"
     ]
    }
   ],
   "execution_count": 28
  },
  {
   "metadata": {},
   "cell_type": "markdown",
   "source": [
    "#### 📌 x랑 y를 학습용 & 시험용 데이터 세트로 분할해야함!\n",
    "#### **scikit-learn (sklearn)**\n",
    "\n",
    "> 1) Classification - 분류 \n",
    "> 2) Regression - 회귀\n",
    "> 3) Clusturing - 군집화\n",
    "> 4) Dimensionality Reduction - 차원 축소\n",
    "> 5) Model Selection - 모델 선택\n",
    "> 6) Pre.Processing - 전처리"
   ],
   "id": "b603846d29a12060"
  },
  {
   "metadata": {
    "ExecuteTime": {
     "end_time": "2025-04-11T11:29:15.103745Z",
     "start_time": "2025-04-11T11:29:15.101520Z"
    }
   },
   "cell_type": "code",
   "source": [
    "from sklearn.model_selection import train_test_split # 학습용, 시험용으로 쪼개기\n",
    "\n",
    "x_train, x_test, y_train, y_test = train_test_split(x, y, random_state=42) \n",
    "# random_state 뒤에 붙는 숫자는 결과 고정을 위한 열쇠번호와 같음.\n",
    "\n",
    "print(x_train)"
   ],
   "id": "3ad8cd6c6a077165",
   "outputs": [
    {
     "name": "stdout",
     "output_type": "stream",
     "text": [
      "[19.6 22.  18.7 17.4 36.  25.  40.  39.  43.  22.  20.  22.  24.  27.5\n",
      " 43.  40.  24.  21.  27.5 40.  32.8 26.5 36.5 13.7 22.7 15.  37.  35.\n",
      " 28.7 23.5 39.  21.  23.  22.  44.  22.5 19.  37.  22.  25.6 42.  34.5]\n"
     ]
    }
   ],
   "execution_count": 29
  },
  {
   "metadata": {},
   "cell_type": "markdown",
   "source": [
    "#### **train_test_split**\n",
    "- test_size=0.25 가 기본적으로 설정되어있기 떄문에 별도의 설정이 없을 경우 25%를 테스트 사이즈로 설정한다."
   ],
   "id": "5afd944d496c8444"
  },
  {
   "metadata": {
    "ExecuteTime": {
     "end_time": "2025-04-11T11:29:15.125093Z",
     "start_time": "2025-04-11T11:29:15.123275Z"
    }
   },
   "cell_type": "code",
   "source": [
    "print(x_train.shape, y_train.shape) # 42개\n",
    "print(x_test.shape, y_test.shape) # 14개\n",
    "# 42 : 14 = 3 : 1 --> 75% : 25%"
   ],
   "id": "2746eb4ef48b5a55",
   "outputs": [
    {
     "name": "stdout",
     "output_type": "stream",
     "text": [
      "(42,) (42,)\n",
      "(14,) (14,)\n"
     ]
    }
   ],
   "execution_count": 30
  },
  {
   "metadata": {},
   "cell_type": "markdown",
   "source": "- 현재 일차원 배열이라 (42, ) 이러한 형태로 출력이 된다. 이 경우 sklearn을 사용할 수 없다. 따라서 2차원 배열로 reshape 해줬다.",
   "id": "339c6310d8f78761"
  },
  {
   "metadata": {
    "ExecuteTime": {
     "end_time": "2025-04-11T11:29:15.141582Z",
     "start_time": "2025-04-11T11:29:15.139976Z"
    }
   },
   "cell_type": "code",
   "source": [
    "# 학습용 데이터 2차원 배열로 바꾸기\n",
    "x_train = x_train.reshape(42, 1)\n",
    "print(x_train.shape)"
   ],
   "id": "dfb3b649e27abbc",
   "outputs": [
    {
     "name": "stdout",
     "output_type": "stream",
     "text": [
      "(42, 1)\n"
     ]
    }
   ],
   "execution_count": 31
  },
  {
   "metadata": {
    "ExecuteTime": {
     "end_time": "2025-04-11T11:29:15.159429Z",
     "start_time": "2025-04-11T11:29:15.157718Z"
    }
   },
   "cell_type": "code",
   "source": [
    "# 시험용 데이터 2차원 배열로 바꾸기\n",
    "x_test = x_test.reshape(-1, 1) # 원소의 개수가 기억나지 않는 경우 -1을 쓰면 자동으로 원소 개수만큼 출력한다.\n",
    "print(x_test.shape)"
   ],
   "id": "88449fd9af9df45",
   "outputs": [
    {
     "name": "stdout",
     "output_type": "stream",
     "text": [
      "(14, 1)\n"
     ]
    }
   ],
   "execution_count": 32
  },
  {
   "metadata": {},
   "cell_type": "markdown",
   "source": "### Chapter 03. 선형 회귀",
   "id": "7653fb4a53f86b12"
  },
  {
   "metadata": {},
   "cell_type": "markdown",
   "source": [
    "- **fit( )** : 모델을 학습시키는 함수\n",
    "- **predict( )** : 학습 완료된 모델을 사용해서, 값을 예측할 때 활용\n",
    "- **score( )** : 학습 완료된 모델을 시험 평가할 때 사용"
   ],
   "id": "23880f60c7dc5a59"
  },
  {
   "metadata": {
    "ExecuteTime": {
     "end_time": "2025-04-11T11:29:15.169896Z",
     "start_time": "2025-04-11T11:29:15.167722Z"
    }
   },
   "cell_type": "code",
   "source": [
    "from sklearn.linear_model import LinearRegression\n",
    "\n",
    "lr = LinearRegression()\n",
    "\n",
    "# 모델 학습    --> y = ax + b\n",
    "lr.fit(x_train, y_train)\n",
    "\n",
    "x_new = [[50]] # 임의의 x 값을 던져주기\n",
    "y_pred = lr.predict(x_new) # 농어의 무게 예측값\n",
    "print('길이가 50cm인 농어의 예측 무게:', y_pred)"
   ],
   "id": "d7d92722c4e1b840",
   "outputs": [
    {
     "name": "stdout",
     "output_type": "stream",
     "text": [
      "길이가 50cm인 농어의 예측 무게: [1241.83860323]\n"
     ]
    }
   ],
   "execution_count": 33
  },
  {
   "metadata": {},
   "cell_type": "markdown",
   "source": [
    "#### y = ax + b\n",
    "- a = 계수 (Coeffients--> coef)\n",
    "- b = y절편 (Intercept --> intercept_)"
   ],
   "id": "8a6478e12d14567f"
  },
  {
   "metadata": {
    "ExecuteTime": {
     "end_time": "2025-04-11T11:29:15.186891Z",
     "start_time": "2025-04-11T11:29:15.185052Z"
    }
   },
   "cell_type": "code",
   "source": [
    "print('a=', lr.coef_)\n",
    "print('b=', lr.intercept_)"
   ],
   "id": "92945037e2e58345",
   "outputs": [
    {
     "name": "stdout",
     "output_type": "stream",
     "text": [
      "a= [39.01714496]\n",
      "b= -709.0186449535477\n"
     ]
    }
   ],
   "execution_count": 34
  },
  {
   "metadata": {
    "ExecuteTime": {
     "end_time": "2025-04-11T11:29:15.233324Z",
     "start_time": "2025-04-11T11:29:15.203083Z"
    }
   },
   "cell_type": "code",
   "source": [
    "import matplotlib.pyplot as plt\n",
    "\n",
    "plt.figure()\n",
    "plt.scatter(perch_length, perch_weight)  # ([x좌표], [y좌표])\n",
    "\n",
    "plt.plot([15,50], [15 * lr.coef_ + lr.intercept_, 50 * lr.coef_ + lr.intercept_], c='red')\n",
    "\n",
    "plt.scatter(50, y_pred) # 현재 y_pred는 x 좌표가 50일 때의 예측값으로 고정되어있다.\n",
    "\n",
    "plt.xlabel('length [cm]')\n",
    "plt.ylabel('weight [g]')\n",
    "plt.grid(True)\n",
    "plt.show()"
   ],
   "id": "f94a1e25e5ff9972",
   "outputs": [
    {
     "data": {
      "text/plain": [
       "<Figure size 640x480 with 1 Axes>"
      ],
      "image/png": "[encoded data removed]"
     },
     "metadata": {},
     "output_type": "display_data"
    }
   ],
   "execution_count": 35
  },
  {
   "metadata": {
    "ExecuteTime": {
     "end_time": "2025-04-11T11:29:15.241574Z",
     "start_time": "2025-04-11T11:29:15.239654Z"
    }
   },
   "cell_type": "code",
   "source": [
    "# 결정계수 확인해보기\n",
    "result = lr.score(x_test, y_test) \n",
    "print('R^2 =', result)"
   ],
   "id": "f064398b121b7e3b",
   "outputs": [
    {
     "name": "stdout",
     "output_type": "stream",
     "text": [
      "R^2 = 0.8247503123313559\n"
     ]
    }
   ],
   "execution_count": 36
  },
  {
   "metadata": {},
   "cell_type": "markdown",
   "source": [
    "> #### Metrics 평가지표\n",
    "- MAE = 평균 절댓값 오차\n",
    "- MSE = 평균 제곱 오차\n",
    "- Root MAE (RMAE) = 평균 절댓값 오차의 루트\n",
    "- Root MSE (RMSE) = 평균 제곱 오차의 루트"
   ],
   "id": "ed60613789a07865"
  },
  {
   "metadata": {
    "ExecuteTime": {
     "end_time": "2025-04-11T11:29:15.253351Z",
     "start_time": "2025-04-11T11:29:15.250801Z"
    }
   },
   "cell_type": "code",
   "source": [
    "from sklearn.metrics import mean_absolute_error, mean_squared_error\n",
    "from sklearn.metrics import root_mean_squared_error\n",
    "\n",
    "y_pred = lr.predict(x_test)\n",
    "\n",
    "mae = mean_absolute_error(y_test, y_pred)\n",
    "mse = mean_squared_error(y_test, y_pred)\n",
    "rmse = root_mean_squared_error(y_test, y_pred)\n",
    "\n",
    "print('MAE =', mae) \n",
    "print('MSE =', mse)\n",
    "print('RMSE =', rmse)\n"
   ],
   "id": "842bbe111acc3ade",
   "outputs": [
    {
     "name": "stdout",
     "output_type": "stream",
     "text": [
      "MAE = 94.4612293798558\n",
      "MSE = 17590.26597788918\n",
      "RMSE = 132.6283000640858\n"
     ]
    }
   ],
   "execution_count": 37
  },
  {
   "metadata": {},
   "cell_type": "markdown",
   "source": "> #### 과대적합(Overfitting) and 과소적합(Underfitting)",
   "id": "ac1150abaccce8b8"
  },
  {
   "metadata": {
    "ExecuteTime": {
     "end_time": "2025-04-11T11:29:15.269729Z",
     "start_time": "2025-04-11T11:29:15.267389Z"
    }
   },
   "cell_type": "code",
   "source": [
    "# 과소적합\n",
    "print('학습용 데이터 세트:', lr.score(x_train, y_train))\n",
    "print('시험용 데이터 세트:', lr.score(x_test, y_test))"
   ],
   "id": "f39912c01227eb37",
   "outputs": [
    {
     "name": "stdout",
     "output_type": "stream",
     "text": [
      "학습용 데이터 세트: 0.9398463339976041\n",
      "시험용 데이터 세트: 0.8247503123313559\n"
     ]
    }
   ],
   "execution_count": 38
  },
  {
   "metadata": {
    "ExecuteTime": {
     "end_time": "2025-04-11T11:29:15.292193Z",
     "start_time": "2025-04-11T11:29:15.290470Z"
    }
   },
   "cell_type": "code",
   "source": [
    "# 결과에 음수값이 나옴. 불가능한 일임\n",
    "print('예측결과', y_pred)"
   ],
   "id": "86dc906594ef3186",
   "outputs": [
    {
     "name": "stdout",
     "output_type": "stream",
     "text": [
      "예측결과 [-381.27462726   -6.71003561  363.95284155  122.04654277  168.86711673\n",
      "  851.66715359  461.49570396  250.80312115  812.65000863  110.34139928\n",
      "  988.22716096  -76.94089654  383.46141403  356.14941255]\n"
     ]
    }
   ],
   "execution_count": 39
  },
  {
   "metadata": {},
   "cell_type": "markdown",
   "source": "### Chapter 04. 다항 회귀",
   "id": "fbe53eeb2d9f4a1d"
  },
  {
   "metadata": {},
   "cell_type": "markdown",
   "source": " - 파이썬 제곱법 : a ** 2",
   "id": "1e8d33f4f2c20cc1"
  },
  {
   "metadata": {
    "ExecuteTime": {
     "end_time": "2025-04-11T11:29:15.361150Z",
     "start_time": "2025-04-11T11:29:15.359234Z"
    }
   },
   "cell_type": "code",
   "source": "print(x_train ** 2)",
   "id": "a68dfc6786f76e45",
   "outputs": [
    {
     "name": "stdout",
     "output_type": "stream",
     "text": [
      "[[ 384.16]\n",
      " [ 484.  ]\n",
      " [ 349.69]\n",
      " [ 302.76]\n",
      " [1296.  ]\n",
      " [ 625.  ]\n",
      " [1600.  ]\n",
      " [1521.  ]\n",
      " [1849.  ]\n",
      " [ 484.  ]\n",
      " [ 400.  ]\n",
      " [ 484.  ]\n",
      " [ 576.  ]\n",
      " [ 756.25]\n",
      " [1849.  ]\n",
      " [1600.  ]\n",
      " [ 576.  ]\n",
      " [ 441.  ]\n",
      " [ 756.25]\n",
      " [1600.  ]\n",
      " [1075.84]\n",
      " [ 702.25]\n",
      " [1332.25]\n",
      " [ 187.69]\n",
      " [ 515.29]\n",
      " [ 225.  ]\n",
      " [1369.  ]\n",
      " [1225.  ]\n",
      " [ 823.69]\n",
      " [ 552.25]\n",
      " [1521.  ]\n",
      " [ 441.  ]\n",
      " [ 529.  ]\n",
      " [ 484.  ]\n",
      " [1936.  ]\n",
      " [ 506.25]\n",
      " [ 361.  ]\n",
      " [1369.  ]\n",
      " [ 484.  ]\n",
      " [ 655.36]\n",
      " [1764.  ]\n",
      " [1190.25]]\n"
     ]
    }
   ],
   "execution_count": 40
  },
  {
   "metadata": {},
   "cell_type": "markdown",
   "source": [
    "#### 길이를 제곱하여 왼쪽 열에 추가해준다.\n",
    "- 곡선의 형태를 만들기 위함."
   ],
   "id": "89adcb1002624bff"
  },
  {
   "metadata": {
    "ExecuteTime": {
     "end_time": "2025-04-11T11:29:15.479514Z",
     "start_time": "2025-04-11T11:29:15.477565Z"
    }
   },
   "cell_type": "code",
   "source": [
    "# poly : 다항식\n",
    "x_train_poly = np.column_stack((x_train ** 2, x_train))\n",
    "print(x_train_poly.shape)"
   ],
   "id": "ce5d6045d2d71ae9",
   "outputs": [
    {
     "name": "stdout",
     "output_type": "stream",
     "text": [
      "(42, 2)\n"
     ]
    }
   ],
   "execution_count": 41
  },
  {
   "metadata": {
    "ExecuteTime": {
     "end_time": "2025-04-11T11:29:15.531064Z",
     "start_time": "2025-04-11T11:29:15.529265Z"
    }
   },
   "cell_type": "code",
   "source": [
    "x_test_poly = np.column_stack((x_test ** 2, x_test))\n",
    "print(x_test_poly.shape)"
   ],
   "id": "9c8b02354a12c315",
   "outputs": [
    {
     "name": "stdout",
     "output_type": "stream",
     "text": [
      "(14, 2)\n"
     ]
    }
   ],
   "execution_count": 42
  },
  {
   "metadata": {
    "ExecuteTime": {
     "end_time": "2025-04-11T12:15:30.496500Z",
     "start_time": "2025-04-11T12:15:30.493168Z"
    }
   },
   "cell_type": "code",
   "source": [
    "lr = LinearRegression()\n",
    "\n",
    "lr.fit(x_train_poly, y_train) \n",
    "y_pred = lr.predict([[50 ** 2, 50]])\n",
    "print('길이가 50cm인 농어의 무게 예측값 :', y_pred)"
   ],
   "id": "60b5394bfa66ce8d",
   "outputs": [
    {
     "name": "stdout",
     "output_type": "stream",
     "text": [
      "길이가 50cm인 농어의 무게 예측값 : [1573.98423528]\n"
     ]
    }
   ],
   "execution_count": 46
  },
  {
   "metadata": {},
   "cell_type": "markdown",
   "source": [
    "> y = ax^2 + bx + c\n",
    "- a, b ---> coefficients --> coef_\n",
    "- c --> y-intercept --> intercept_"
   ],
   "id": "6a522a576f524804"
  },
  {
   "metadata": {
    "ExecuteTime": {
     "end_time": "2025-04-11T12:34:54.500834Z",
     "start_time": "2025-04-11T12:34:54.497992Z"
    }
   },
   "cell_type": "code",
   "source": [
    "print(\"a = \", lr.coef_[0])\n",
    "print(\"b = \", lr.coef_[1])\n",
    "print(\"c =\", lr.intercept_)\n",
    "\n",
    "a = lr.coef_[0]\n",
    "b = lr.coef_[1]\n",
    "c = lr.intercept_"
   ],
   "id": "5775d104e1e9e94e",
   "outputs": [
    {
     "name": "stdout",
     "output_type": "stream",
     "text": [
      "a =  1.0143321093767304\n",
      "b =  -21.557924978837352\n",
      "c = 116.05021078278247\n"
     ]
    }
   ],
   "execution_count": 51
  },
  {
   "metadata": {
    "ExecuteTime": {
     "end_time": "2025-04-11T12:42:01.024987Z",
     "start_time": "2025-04-11T12:42:00.979938Z"
    }
   },
   "cell_type": "code",
   "source": [
    "plt.figure()\n",
    "\n",
    "point_x = np.arange(10, 50, 1) # (시작, 끝-1, 간격)\n",
    "point_y = a * point_x ** 2 + b * point_x + c # y = ax^2 + bx + c\n",
    "\n",
    "plt.scatter(x_train, y_train)\n",
    "plt.plot(point_x, point_y, c='red')\n",
    "\n",
    "plt.xlabel(\"Length (cm)\")\n",
    "plt.ylabel(\"Weight (g)\")\n",
    "plt.grid(True)\n",
    "plt.show()"
   ],
   "id": "7ccc86acfedf8b99",
   "outputs": [
    {
     "data": {
      "text/plain": [
       "<Figure size 640x480 with 1 Axes>"
      ],
      "image/png": "[encoded data removed]"
     },
     "metadata": {},
     "output_type": "display_data"
    }
   ],
   "execution_count": 63
  },
  {
   "metadata": {},
   "cell_type": "markdown",
   "source": "",
   "id": "eca00c0808dd6c3b"
  },
  {
   "metadata": {
    "ExecuteTime": {
     "end_time": "2025-04-11T12:43:14.163616Z",
     "start_time": "2025-04-11T12:43:14.160092Z"
    }
   },
   "cell_type": "code",
   "source": [
    "# 단순 선형 회귀 모델의 성능\n",
    "# 학습용 데이터 세트: 0.9398463339976041\n",
    "# 시험용 데이터 세트: 0.8247503123313559\n",
    "\n",
    "# 다항 회귀 모델의 성능\n",
    "print('학습용 데이터 세트:', lr.score(x_train_poly, y_train))\n",
    "print('시험용 데이터 세트:', lr.score(x_test_poly, y_test))"
   ],
   "id": "d62dba9459bcdf14",
   "outputs": [
    {
     "name": "stdout",
     "output_type": "stream",
     "text": [
      "학습용 데이터 세트: 0.9706807451768623\n",
      "시험용 데이터 세트: 0.9775935108325121\n"
     ]
    }
   ],
   "execution_count": 64
  },
  {
   "metadata": {},
   "cell_type": "markdown",
   "source": [
    "#### - 두 모델 모두 과소적합이 발생했다. <br>\n",
    "> 단순 선형 회귀 모델   \n",
    "> ➡️ case 1) 둘 다 점수가 높지 않음. <br>\n",
    ">   \n",
    "> 다항 회귀 모델   \n",
    "> ➡️ case 2) 테스트용 모델이 학습용 모델보다 점수가 높음."
   ],
   "id": "1abbf1553d3a4943"
  }
 ],
 "metadata": {
  "kernelspec": {
   "display_name": "Python 3",
   "language": "python",
   "name": "python3"
  },
  "language_info": {
   "codemirror_mode": {
    "name": "ipython",
    "version": 2
   },
   "file_extension": ".py",
   "mimetype": "text/x-python",
   "name": "python",
   "nbconvert_exporter": "python",
   "pygments_lexer": "ipython2",
   "version": "2.7.6"
  }
 },
 "nbformat": 4,
 "nbformat_minor": 5
}
